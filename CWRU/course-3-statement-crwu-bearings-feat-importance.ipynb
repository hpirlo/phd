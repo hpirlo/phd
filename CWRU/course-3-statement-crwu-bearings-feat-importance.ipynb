{
 "cells": [
  {
   "cell_type": "markdown",
   "id": "resident-skirt",
   "metadata": {
    "papermill": {
     "duration": 0.026571,
     "end_time": "2021-06-06T10:51:52.526520",
     "exception": false,
     "start_time": "2021-06-06T10:51:52.499949",
     "status": "completed"
    },
    "tags": []
   },
   "source": [
    "### This is the statement for the evaluation of **Course 3: Machine Learning applied to Predictive Maintenance in the Industry**\n",
    "#### The solution can be found in [this accompanying notebook](https://www.kaggle.com/brjapon/course3-solution-crwu-bearing-feat-importance)\n",
    "\n",
    "**NOTE:** *The errors that are produced when running the notebook means that you have to fix/complete those lines with the right commands*"
   ]
  },
  {
   "cell_type": "code",
   "execution_count": 1,
   "id": "improved-resource",
   "metadata": {
    "_cell_guid": "b1076dfc-b9ad-4769-8c92-a6c4dae69d19",
    "_uuid": "8f2839f25d086af736a60e9eeb907d3b93b6e0e5",
    "execution": {
     "iopub.execute_input": "2021-06-06T10:51:52.589707Z",
     "iopub.status.busy": "2021-06-06T10:51:52.588893Z",
     "iopub.status.idle": "2021-06-06T10:51:53.753038Z",
     "shell.execute_reply": "2021-06-06T10:51:53.752153Z",
     "shell.execute_reply.started": "2021-05-24T11:38:31.787589Z"
    },
    "papermill": {
     "duration": 1.204534,
     "end_time": "2021-06-06T10:51:53.753244",
     "exception": false,
     "start_time": "2021-06-06T10:51:52.548710",
     "status": "completed"
    },
    "tags": []
   },
   "outputs": [
    {
     "name": "stdout",
     "output_type": "stream",
     "text": [
      "/kaggle/input/cwru-bearing-datasets/CWRU_48k_load_1_CNN_data.npz\n",
      "/kaggle/input/cwru-bearing-datasets/feature_time_48k_2048_load_1.csv\n",
      "/kaggle/input/cwru-bearing-datasets/raw/IR021_1_214.mat\n",
      "/kaggle/input/cwru-bearing-datasets/raw/B014_1_190.mat\n",
      "/kaggle/input/cwru-bearing-datasets/raw/OR007_6_1_136.mat\n",
      "/kaggle/input/cwru-bearing-datasets/raw/OR014_6_1_202.mat\n",
      "/kaggle/input/cwru-bearing-datasets/raw/B007_1_123.mat\n",
      "/kaggle/input/cwru-bearing-datasets/raw/IR007_1_110.mat\n",
      "/kaggle/input/cwru-bearing-datasets/raw/B021_1_227.mat\n",
      "/kaggle/input/cwru-bearing-datasets/raw/Time_Normal_1_098.mat\n",
      "/kaggle/input/cwru-bearing-datasets/raw/OR021_6_1_239.mat\n",
      "/kaggle/input/cwru-bearing-datasets/raw/IR014_1_175.mat\n"
     ]
    }
   ],
   "source": [
    "import numpy as np # linear algebra\n",
    "import pandas as pd # data processing, CSV file I/O (e.g. pd.read_csv)\n",
    "\n",
    "from sklearn.model_selection import train_test_split\n",
    "from sklearn.preprocessing import StandardScaler\n",
    "\n",
    "import seaborn as sns\n",
    "import matplotlib.pyplot as plt\n",
    "\n",
    "import os\n",
    "for dirname, _, filenames in os.walk('/kaggle/input'):\n",
    "    for filename in filenames:\n",
    "        print(os.path.join(dirname, filename))"
   ]
  },
  {
   "cell_type": "markdown",
   "id": "current-acrobat",
   "metadata": {
    "papermill": {
     "duration": 0.019619,
     "end_time": "2021-06-06T10:51:53.793605",
     "exception": false,
     "start_time": "2021-06-06T10:51:53.773986",
     "status": "completed"
    },
    "tags": []
   },
   "source": [
    "## Fault type identification\n",
    "There are 10 types of faults, linked to each bearing deffect:\n",
    "\n",
    "- **Ball_007_1**: Ball defect (0.007 inch)\n",
    "- **Ball_014_1**: Ball defect (0.014 inch)\n",
    "- **Ball_021_1**: Ball defect (0.021 inch)\n",
    "- **IR_007_1**: Inner race fault (0.007 inch)\n",
    "- **IR_014_1**: Inner race fault (0.014 inch)\n",
    "- **IR_021_1**: Inner race fault (0.021 inch)\n",
    "- **Normal_1**: Normal\n",
    "- **OR_007_6_1**: Outer race fault (0.007 inch, data collected from 6 O'clock position)\n",
    "- **OR_014_6_1**: Outer race fault (0.014 inch, 6 O'clock)\n",
    "- **OR_021_6_1**: Outer race fault (0.021 inch, 6 O'clock)"
   ]
  },
  {
   "cell_type": "markdown",
   "id": "prescribed-photographer",
   "metadata": {
    "papermill": {
     "duration": 0.019092,
     "end_time": "2021-06-06T10:51:53.831837",
     "exception": false,
     "start_time": "2021-06-06T10:51:53.812745",
     "status": "completed"
    },
    "tags": []
   },
   "source": [
    "## Get the data\n",
    "The file we will read is the result of preprocessing the raw data files (folder `/kaggle/input/cwru-bearing-datasets/raw/`).\n",
    "\n",
    "Time series segments contains 2048 points each. Given that the sampling frequency is 48kHz each time serie covers 0.04 seconds."
   ]
  },
  {
   "cell_type": "code",
   "execution_count": 2,
   "id": "ready-sympathy",
   "metadata": {
    "execution": {
     "iopub.execute_input": "2021-06-06T10:51:53.877401Z",
     "iopub.status.busy": "2021-06-06T10:51:53.876666Z",
     "iopub.status.idle": "2021-06-06T10:51:53.944223Z",
     "shell.execute_reply": "2021-06-06T10:51:53.943530Z",
     "shell.execute_reply.started": "2021-05-24T11:38:32.864131Z"
    },
    "papermill": {
     "duration": 0.093354,
     "end_time": "2021-06-06T10:51:53.944408",
     "exception": false,
     "start_time": "2021-06-06T10:51:53.851054",
     "status": "completed"
    },
    "tags": []
   },
   "outputs": [
    {
     "data": {
      "text/html": [
       "<div>\n",
       "<style scoped>\n",
       "    .dataframe tbody tr th:only-of-type {\n",
       "        vertical-align: middle;\n",
       "    }\n",
       "\n",
       "    .dataframe tbody tr th {\n",
       "        vertical-align: top;\n",
       "    }\n",
       "\n",
       "    .dataframe thead th {\n",
       "        text-align: right;\n",
       "    }\n",
       "</style>\n",
       "<table border=\"1\" class=\"dataframe\">\n",
       "  <thead>\n",
       "    <tr style=\"text-align: right;\">\n",
       "      <th></th>\n",
       "      <th>max</th>\n",
       "      <th>min</th>\n",
       "      <th>mean</th>\n",
       "      <th>sd</th>\n",
       "      <th>rms</th>\n",
       "      <th>skewness</th>\n",
       "      <th>kurtosis</th>\n",
       "      <th>crest</th>\n",
       "      <th>form</th>\n",
       "      <th>fault</th>\n",
       "    </tr>\n",
       "  </thead>\n",
       "  <tbody>\n",
       "    <tr>\n",
       "      <th>0</th>\n",
       "      <td>0.35986</td>\n",
       "      <td>-0.41890</td>\n",
       "      <td>0.017840</td>\n",
       "      <td>0.122746</td>\n",
       "      <td>0.124006</td>\n",
       "      <td>-0.118571</td>\n",
       "      <td>-0.042219</td>\n",
       "      <td>2.901946</td>\n",
       "      <td>6.950855</td>\n",
       "      <td>Ball_007_1</td>\n",
       "    </tr>\n",
       "    <tr>\n",
       "      <th>1</th>\n",
       "      <td>0.46772</td>\n",
       "      <td>-0.36111</td>\n",
       "      <td>0.022255</td>\n",
       "      <td>0.132488</td>\n",
       "      <td>0.134312</td>\n",
       "      <td>0.174699</td>\n",
       "      <td>-0.081548</td>\n",
       "      <td>3.482334</td>\n",
       "      <td>6.035202</td>\n",
       "      <td>Ball_007_1</td>\n",
       "    </tr>\n",
       "    <tr>\n",
       "      <th>2</th>\n",
       "      <td>0.46855</td>\n",
       "      <td>-0.43809</td>\n",
       "      <td>0.020470</td>\n",
       "      <td>0.149651</td>\n",
       "      <td>0.151008</td>\n",
       "      <td>0.040339</td>\n",
       "      <td>-0.274069</td>\n",
       "      <td>3.102819</td>\n",
       "      <td>7.376926</td>\n",
       "      <td>Ball_007_1</td>\n",
       "    </tr>\n",
       "    <tr>\n",
       "      <th>3</th>\n",
       "      <td>0.58475</td>\n",
       "      <td>-0.54303</td>\n",
       "      <td>0.020960</td>\n",
       "      <td>0.157067</td>\n",
       "      <td>0.158422</td>\n",
       "      <td>-0.023266</td>\n",
       "      <td>0.134692</td>\n",
       "      <td>3.691097</td>\n",
       "      <td>7.558387</td>\n",
       "      <td>Ball_007_1</td>\n",
       "    </tr>\n",
       "    <tr>\n",
       "      <th>4</th>\n",
       "      <td>0.44685</td>\n",
       "      <td>-0.57891</td>\n",
       "      <td>0.022167</td>\n",
       "      <td>0.138189</td>\n",
       "      <td>0.139922</td>\n",
       "      <td>-0.081534</td>\n",
       "      <td>0.402783</td>\n",
       "      <td>3.193561</td>\n",
       "      <td>6.312085</td>\n",
       "      <td>Ball_007_1</td>\n",
       "    </tr>\n",
       "    <tr>\n",
       "      <th>...</th>\n",
       "      <td>...</td>\n",
       "      <td>...</td>\n",
       "      <td>...</td>\n",
       "      <td>...</td>\n",
       "      <td>...</td>\n",
       "      <td>...</td>\n",
       "      <td>...</td>\n",
       "      <td>...</td>\n",
       "      <td>...</td>\n",
       "      <td>...</td>\n",
       "    </tr>\n",
       "    <tr>\n",
       "      <th>2295</th>\n",
       "      <td>0.21425</td>\n",
       "      <td>-0.19839</td>\n",
       "      <td>0.010769</td>\n",
       "      <td>0.064100</td>\n",
       "      <td>0.064983</td>\n",
       "      <td>-0.212497</td>\n",
       "      <td>-0.119312</td>\n",
       "      <td>3.297037</td>\n",
       "      <td>6.034174</td>\n",
       "      <td>Normal_1</td>\n",
       "    </tr>\n",
       "    <tr>\n",
       "      <th>2296</th>\n",
       "      <td>0.21967</td>\n",
       "      <td>-0.20882</td>\n",
       "      <td>0.013136</td>\n",
       "      <td>0.068654</td>\n",
       "      <td>0.069883</td>\n",
       "      <td>-0.061308</td>\n",
       "      <td>-0.295122</td>\n",
       "      <td>3.143410</td>\n",
       "      <td>5.319958</td>\n",
       "      <td>Normal_1</td>\n",
       "    </tr>\n",
       "    <tr>\n",
       "      <th>2297</th>\n",
       "      <td>0.20799</td>\n",
       "      <td>-0.21613</td>\n",
       "      <td>0.012571</td>\n",
       "      <td>0.067128</td>\n",
       "      <td>0.068279</td>\n",
       "      <td>-0.154754</td>\n",
       "      <td>-0.071405</td>\n",
       "      <td>3.046161</td>\n",
       "      <td>5.431299</td>\n",
       "      <td>Normal_1</td>\n",
       "    </tr>\n",
       "    <tr>\n",
       "      <th>2298</th>\n",
       "      <td>0.21425</td>\n",
       "      <td>-0.22405</td>\n",
       "      <td>0.012608</td>\n",
       "      <td>0.066813</td>\n",
       "      <td>0.067977</td>\n",
       "      <td>-0.326966</td>\n",
       "      <td>0.023662</td>\n",
       "      <td>3.151821</td>\n",
       "      <td>5.391672</td>\n",
       "      <td>Normal_1</td>\n",
       "    </tr>\n",
       "    <tr>\n",
       "      <th>2299</th>\n",
       "      <td>0.19610</td>\n",
       "      <td>-0.24721</td>\n",
       "      <td>0.012209</td>\n",
       "      <td>0.063243</td>\n",
       "      <td>0.064396</td>\n",
       "      <td>-0.351762</td>\n",
       "      <td>0.226294</td>\n",
       "      <td>3.045244</td>\n",
       "      <td>5.274392</td>\n",
       "      <td>Normal_1</td>\n",
       "    </tr>\n",
       "  </tbody>\n",
       "</table>\n",
       "<p>2300 rows × 10 columns</p>\n",
       "</div>"
      ],
      "text/plain": [
       "          max      min      mean        sd       rms  skewness  kurtosis  \\\n",
       "0     0.35986 -0.41890  0.017840  0.122746  0.124006 -0.118571 -0.042219   \n",
       "1     0.46772 -0.36111  0.022255  0.132488  0.134312  0.174699 -0.081548   \n",
       "2     0.46855 -0.43809  0.020470  0.149651  0.151008  0.040339 -0.274069   \n",
       "3     0.58475 -0.54303  0.020960  0.157067  0.158422 -0.023266  0.134692   \n",
       "4     0.44685 -0.57891  0.022167  0.138189  0.139922 -0.081534  0.402783   \n",
       "...       ...      ...       ...       ...       ...       ...       ...   \n",
       "2295  0.21425 -0.19839  0.010769  0.064100  0.064983 -0.212497 -0.119312   \n",
       "2296  0.21967 -0.20882  0.013136  0.068654  0.069883 -0.061308 -0.295122   \n",
       "2297  0.20799 -0.21613  0.012571  0.067128  0.068279 -0.154754 -0.071405   \n",
       "2298  0.21425 -0.22405  0.012608  0.066813  0.067977 -0.326966  0.023662   \n",
       "2299  0.19610 -0.24721  0.012209  0.063243  0.064396 -0.351762  0.226294   \n",
       "\n",
       "         crest      form       fault  \n",
       "0     2.901946  6.950855  Ball_007_1  \n",
       "1     3.482334  6.035202  Ball_007_1  \n",
       "2     3.102819  7.376926  Ball_007_1  \n",
       "3     3.691097  7.558387  Ball_007_1  \n",
       "4     3.193561  6.312085  Ball_007_1  \n",
       "...        ...       ...         ...  \n",
       "2295  3.297037  6.034174    Normal_1  \n",
       "2296  3.143410  5.319958    Normal_1  \n",
       "2297  3.046161  5.431299    Normal_1  \n",
       "2298  3.151821  5.391672    Normal_1  \n",
       "2299  3.045244  5.274392    Normal_1  \n",
       "\n",
       "[2300 rows x 10 columns]"
      ]
     },
     "execution_count": 2,
     "metadata": {},
     "output_type": "execute_result"
    }
   ],
   "source": [
    "data_time = pd.read_csv(\"../input/cwru-bearing-datasets/feature_time_48k_2048_load_1.csv\")\n",
    "data_time"
   ]
  },
  {
   "cell_type": "markdown",
   "id": "thorough-diving",
   "metadata": {
    "papermill": {
     "duration": 0.020488,
     "end_time": "2021-06-06T10:51:53.984959",
     "exception": false,
     "start_time": "2021-06-06T10:51:53.964471",
     "status": "completed"
    },
    "tags": []
   },
   "source": [
    "## Split into train and test datasets"
   ]
  },
  {
   "cell_type": "code",
   "execution_count": 3,
   "id": "running-project",
   "metadata": {
    "execution": {
     "iopub.execute_input": "2021-06-06T10:51:54.037516Z",
     "iopub.status.busy": "2021-06-06T10:51:54.035025Z",
     "iopub.status.idle": "2021-06-06T10:51:54.054264Z",
     "shell.execute_reply": "2021-06-06T10:51:54.053402Z",
     "shell.execute_reply.started": "2021-05-24T11:38:32.916255Z"
    },
    "papermill": {
     "duration": 0.048661,
     "end_time": "2021-06-06T10:51:54.054507",
     "exception": false,
     "start_time": "2021-06-06T10:51:54.005846",
     "status": "completed"
    },
    "tags": []
   },
   "outputs": [
    {
     "name": "stdout",
     "output_type": "stream",
     "text": [
      "OR_014_6_1    155\n",
      "OR_021_6_1    155\n",
      "IR_014_1      155\n",
      "Normal_1      155\n",
      "OR_007_6_1    155\n",
      "IR_007_1      155\n",
      "Ball_014_1    155\n",
      "Ball_007_1    155\n",
      "IR_021_1      155\n",
      "Ball_021_1    155\n",
      "Name: fault, dtype: int64 \n",
      "\n",
      " Ball_014_1    75\n",
      "OR_014_6_1    75\n",
      "OR_021_6_1    75\n",
      "Ball_007_1    75\n",
      "IR_014_1      75\n",
      "Normal_1      75\n",
      "IR_021_1      75\n",
      "OR_007_6_1    75\n",
      "IR_007_1      75\n",
      "Ball_021_1    75\n",
      "Name: fault, dtype: int64\n"
     ]
    }
   ],
   "source": [
    "train_data, test_data = train_test_split(data_time, test_size = 750, stratify = data_time['fault'], random_state = 1234)\n",
    "print( train_data['fault'].value_counts(), \"\\n\\n\", test_data['fault'].value_counts())"
   ]
  },
  {
   "cell_type": "markdown",
   "id": "occupational-vintage",
   "metadata": {
    "papermill": {
     "duration": 0.019967,
     "end_time": "2021-06-06T10:51:54.095476",
     "exception": false,
     "start_time": "2021-06-06T10:51:54.075509",
     "status": "completed"
    },
    "tags": []
   },
   "source": [
    "## Scale features in training set"
   ]
  },
  {
   "cell_type": "code",
   "execution_count": 4,
   "id": "furnished-norfolk",
   "metadata": {
    "execution": {
     "iopub.execute_input": "2021-06-06T10:51:54.139658Z",
     "iopub.status.busy": "2021-06-06T10:51:54.138927Z",
     "iopub.status.idle": "2021-06-06T10:51:54.197146Z",
     "shell.execute_reply": "2021-06-06T10:51:54.196392Z",
     "shell.execute_reply.started": "2021-05-24T11:38:32.938798Z"
    },
    "papermill": {
     "duration": 0.081792,
     "end_time": "2021-06-06T10:51:54.197344",
     "exception": false,
     "start_time": "2021-06-06T10:51:54.115552",
     "status": "completed"
    },
    "tags": []
   },
   "outputs": [
    {
     "data": {
      "text/html": [
       "<div>\n",
       "<style scoped>\n",
       "    .dataframe tbody tr th:only-of-type {\n",
       "        vertical-align: middle;\n",
       "    }\n",
       "\n",
       "    .dataframe tbody tr th {\n",
       "        vertical-align: top;\n",
       "    }\n",
       "\n",
       "    .dataframe thead th {\n",
       "        text-align: right;\n",
       "    }\n",
       "</style>\n",
       "<table border=\"1\" class=\"dataframe\">\n",
       "  <thead>\n",
       "    <tr style=\"text-align: right;\">\n",
       "      <th></th>\n",
       "      <th>0</th>\n",
       "      <th>1</th>\n",
       "      <th>2</th>\n",
       "      <th>3</th>\n",
       "      <th>4</th>\n",
       "      <th>5</th>\n",
       "      <th>6</th>\n",
       "      <th>7</th>\n",
       "      <th>8</th>\n",
       "    </tr>\n",
       "  </thead>\n",
       "  <tbody>\n",
       "    <tr>\n",
       "      <th>count</th>\n",
       "      <td>1.550000e+03</td>\n",
       "      <td>1.550000e+03</td>\n",
       "      <td>1.550000e+03</td>\n",
       "      <td>1.550000e+03</td>\n",
       "      <td>1.550000e+03</td>\n",
       "      <td>1.550000e+03</td>\n",
       "      <td>1.550000e+03</td>\n",
       "      <td>1.550000e+03</td>\n",
       "      <td>1.550000e+03</td>\n",
       "    </tr>\n",
       "    <tr>\n",
       "      <th>mean</th>\n",
       "      <td>1.260640e-16</td>\n",
       "      <td>1.002782e-16</td>\n",
       "      <td>-2.888012e-16</td>\n",
       "      <td>6.016693e-17</td>\n",
       "      <td>-5.386372e-17</td>\n",
       "      <td>1.833659e-17</td>\n",
       "      <td>-5.500976e-17</td>\n",
       "      <td>4.950878e-16</td>\n",
       "      <td>-2.521281e-17</td>\n",
       "    </tr>\n",
       "    <tr>\n",
       "      <th>std</th>\n",
       "      <td>1.000323e+00</td>\n",
       "      <td>1.000323e+00</td>\n",
       "      <td>1.000323e+00</td>\n",
       "      <td>1.000323e+00</td>\n",
       "      <td>1.000323e+00</td>\n",
       "      <td>1.000323e+00</td>\n",
       "      <td>1.000323e+00</td>\n",
       "      <td>1.000323e+00</td>\n",
       "      <td>1.000323e+00</td>\n",
       "    </tr>\n",
       "    <tr>\n",
       "      <th>min</th>\n",
       "      <td>-8.877055e-01</td>\n",
       "      <td>-2.951564e+00</td>\n",
       "      <td>-1.935376e+00</td>\n",
       "      <td>-9.258092e-01</td>\n",
       "      <td>-9.231913e-01</td>\n",
       "      <td>-5.951422e+00</td>\n",
       "      <td>-7.874742e-01</td>\n",
       "      <td>-1.481163e+00</td>\n",
       "      <td>-7.775653e-01</td>\n",
       "    </tr>\n",
       "    <tr>\n",
       "      <th>25%</th>\n",
       "      <td>-7.088474e-01</td>\n",
       "      <td>-3.753614e-01</td>\n",
       "      <td>-6.908705e-01</td>\n",
       "      <td>-6.755048e-01</td>\n",
       "      <td>-6.760659e-01</td>\n",
       "      <td>-3.678525e-01</td>\n",
       "      <td>-6.073122e-01</td>\n",
       "      <td>-8.064817e-01</td>\n",
       "      <td>-6.475107e-01</td>\n",
       "    </tr>\n",
       "    <tr>\n",
       "      <th>50%</th>\n",
       "      <td>-4.958143e-01</td>\n",
       "      <td>5.113022e-01</td>\n",
       "      <td>-3.141526e-01</td>\n",
       "      <td>-5.055027e-01</td>\n",
       "      <td>-5.038108e-01</td>\n",
       "      <td>2.140248e-01</td>\n",
       "      <td>-4.182916e-01</td>\n",
       "      <td>-2.135605e-01</td>\n",
       "      <td>-4.548003e-01</td>\n",
       "    </tr>\n",
       "    <tr>\n",
       "      <th>75%</th>\n",
       "      <td>4.477234e-01</td>\n",
       "      <td>7.003484e-01</td>\n",
       "      <td>4.560105e-01</td>\n",
       "      <td>7.015641e-01</td>\n",
       "      <td>7.003255e-01</td>\n",
       "      <td>5.823124e-01</td>\n",
       "      <td>2.860828e-01</td>\n",
       "      <td>5.648177e-01</td>\n",
       "      <td>4.360429e-01</td>\n",
       "    </tr>\n",
       "    <tr>\n",
       "      <th>max</th>\n",
       "      <td>3.297226e+00</td>\n",
       "      <td>8.671141e-01</td>\n",
       "      <td>3.503861e+00</td>\n",
       "      <td>2.980548e+00</td>\n",
       "      <td>2.981995e+00</td>\n",
       "      <td>4.906756e+00</td>\n",
       "      <td>6.349353e+00</td>\n",
       "      <td>4.049712e+00</td>\n",
       "      <td>9.629399e+00</td>\n",
       "    </tr>\n",
       "  </tbody>\n",
       "</table>\n",
       "</div>"
      ],
      "text/plain": [
       "                  0             1             2             3             4  \\\n",
       "count  1.550000e+03  1.550000e+03  1.550000e+03  1.550000e+03  1.550000e+03   \n",
       "mean   1.260640e-16  1.002782e-16 -2.888012e-16  6.016693e-17 -5.386372e-17   \n",
       "std    1.000323e+00  1.000323e+00  1.000323e+00  1.000323e+00  1.000323e+00   \n",
       "min   -8.877055e-01 -2.951564e+00 -1.935376e+00 -9.258092e-01 -9.231913e-01   \n",
       "25%   -7.088474e-01 -3.753614e-01 -6.908705e-01 -6.755048e-01 -6.760659e-01   \n",
       "50%   -4.958143e-01  5.113022e-01 -3.141526e-01 -5.055027e-01 -5.038108e-01   \n",
       "75%    4.477234e-01  7.003484e-01  4.560105e-01  7.015641e-01  7.003255e-01   \n",
       "max    3.297226e+00  8.671141e-01  3.503861e+00  2.980548e+00  2.981995e+00   \n",
       "\n",
       "                  5             6             7             8  \n",
       "count  1.550000e+03  1.550000e+03  1.550000e+03  1.550000e+03  \n",
       "mean   1.833659e-17 -5.500976e-17  4.950878e-16 -2.521281e-17  \n",
       "std    1.000323e+00  1.000323e+00  1.000323e+00  1.000323e+00  \n",
       "min   -5.951422e+00 -7.874742e-01 -1.481163e+00 -7.775653e-01  \n",
       "25%   -3.678525e-01 -6.073122e-01 -8.064817e-01 -6.475107e-01  \n",
       "50%    2.140248e-01 -4.182916e-01 -2.135605e-01 -4.548003e-01  \n",
       "75%    5.823124e-01  2.860828e-01  5.648177e-01  4.360429e-01  \n",
       "max    4.906756e+00  6.349353e+00  4.049712e+00  9.629399e+00  "
      ]
     },
     "execution_count": 4,
     "metadata": {},
     "output_type": "execute_result"
    }
   ],
   "source": [
    "# Scale each column to have zero mean and standard deviation equal to 1\n",
    "scaler = StandardScaler()\n",
    "train_data_scaled = scaler.fit_transform(train_data.iloc[:,:-1]) # Skip last column 'fault'\n",
    "pd.DataFrame(train_data_scaled).describe()"
   ]
  },
  {
   "cell_type": "code",
   "execution_count": 5,
   "id": "younger-tonight",
   "metadata": {
    "execution": {
     "iopub.execute_input": "2021-06-06T10:51:54.251482Z",
     "iopub.status.busy": "2021-06-06T10:51:54.249370Z",
     "iopub.status.idle": "2021-06-06T10:51:54.290198Z",
     "shell.execute_reply": "2021-06-06T10:51:54.289471Z",
     "shell.execute_reply.started": "2021-05-24T11:38:32.986269Z"
    },
    "papermill": {
     "duration": 0.072248,
     "end_time": "2021-06-06T10:51:54.290404",
     "exception": false,
     "start_time": "2021-06-06T10:51:54.218156",
     "status": "completed"
    },
    "tags": []
   },
   "outputs": [
    {
     "data": {
      "text/html": [
       "<div>\n",
       "<style scoped>\n",
       "    .dataframe tbody tr th:only-of-type {\n",
       "        vertical-align: middle;\n",
       "    }\n",
       "\n",
       "    .dataframe tbody tr th {\n",
       "        vertical-align: top;\n",
       "    }\n",
       "\n",
       "    .dataframe thead th {\n",
       "        text-align: right;\n",
       "    }\n",
       "</style>\n",
       "<table border=\"1\" class=\"dataframe\">\n",
       "  <thead>\n",
       "    <tr style=\"text-align: right;\">\n",
       "      <th></th>\n",
       "      <th>0</th>\n",
       "      <th>1</th>\n",
       "      <th>2</th>\n",
       "      <th>3</th>\n",
       "      <th>4</th>\n",
       "      <th>5</th>\n",
       "      <th>6</th>\n",
       "      <th>7</th>\n",
       "      <th>8</th>\n",
       "    </tr>\n",
       "  </thead>\n",
       "  <tbody>\n",
       "    <tr>\n",
       "      <th>count</th>\n",
       "      <td>750.000000</td>\n",
       "      <td>750.000000</td>\n",
       "      <td>750.000000</td>\n",
       "      <td>750.000000</td>\n",
       "      <td>750.000000</td>\n",
       "      <td>750.000000</td>\n",
       "      <td>750.000000</td>\n",
       "      <td>750.000000</td>\n",
       "      <td>750.000000</td>\n",
       "    </tr>\n",
       "    <tr>\n",
       "      <th>mean</th>\n",
       "      <td>-0.013718</td>\n",
       "      <td>0.003277</td>\n",
       "      <td>-0.018151</td>\n",
       "      <td>-0.013327</td>\n",
       "      <td>-0.013375</td>\n",
       "      <td>-0.035946</td>\n",
       "      <td>0.018838</td>\n",
       "      <td>0.009379</td>\n",
       "      <td>-0.012433</td>\n",
       "    </tr>\n",
       "    <tr>\n",
       "      <th>std</th>\n",
       "      <td>0.976752</td>\n",
       "      <td>0.993896</td>\n",
       "      <td>1.003708</td>\n",
       "      <td>0.987301</td>\n",
       "      <td>0.987315</td>\n",
       "      <td>1.105931</td>\n",
       "      <td>1.028360</td>\n",
       "      <td>0.998996</td>\n",
       "      <td>0.936491</td>\n",
       "    </tr>\n",
       "    <tr>\n",
       "      <th>min</th>\n",
       "      <td>-0.895968</td>\n",
       "      <td>-2.754539</td>\n",
       "      <td>-1.590184</td>\n",
       "      <td>-0.922087</td>\n",
       "      <td>-0.922953</td>\n",
       "      <td>-6.014935</td>\n",
       "      <td>-0.759377</td>\n",
       "      <td>-1.515700</td>\n",
       "      <td>-0.772309</td>\n",
       "    </tr>\n",
       "    <tr>\n",
       "      <th>25%</th>\n",
       "      <td>-0.706453</td>\n",
       "      <td>-0.429163</td>\n",
       "      <td>-0.720867</td>\n",
       "      <td>-0.677965</td>\n",
       "      <td>-0.678545</td>\n",
       "      <td>-0.355683</td>\n",
       "      <td>-0.606352</td>\n",
       "      <td>-0.762882</td>\n",
       "      <td>-0.641796</td>\n",
       "    </tr>\n",
       "    <tr>\n",
       "      <th>50%</th>\n",
       "      <td>-0.494044</td>\n",
       "      <td>0.503185</td>\n",
       "      <td>-0.303458</td>\n",
       "      <td>-0.492809</td>\n",
       "      <td>-0.490457</td>\n",
       "      <td>0.224657</td>\n",
       "      <td>-0.415267</td>\n",
       "      <td>-0.219297</td>\n",
       "      <td>-0.452940</td>\n",
       "    </tr>\n",
       "    <tr>\n",
       "      <th>75%</th>\n",
       "      <td>0.394936</td>\n",
       "      <td>0.704214</td>\n",
       "      <td>0.401811</td>\n",
       "      <td>0.669274</td>\n",
       "      <td>0.667916</td>\n",
       "      <td>0.576534</td>\n",
       "      <td>0.294171</td>\n",
       "      <td>0.547845</td>\n",
       "      <td>0.447909</td>\n",
       "    </tr>\n",
       "    <tr>\n",
       "      <th>max</th>\n",
       "      <td>3.008545</td>\n",
       "      <td>0.861398</td>\n",
       "      <td>3.003970</td>\n",
       "      <td>2.885914</td>\n",
       "      <td>2.887282</td>\n",
       "      <td>6.301407</td>\n",
       "      <td>5.007205</td>\n",
       "      <td>3.784107</td>\n",
       "      <td>3.531440</td>\n",
       "    </tr>\n",
       "  </tbody>\n",
       "</table>\n",
       "</div>"
      ],
      "text/plain": [
       "                0           1           2           3           4           5  \\\n",
       "count  750.000000  750.000000  750.000000  750.000000  750.000000  750.000000   \n",
       "mean    -0.013718    0.003277   -0.018151   -0.013327   -0.013375   -0.035946   \n",
       "std      0.976752    0.993896    1.003708    0.987301    0.987315    1.105931   \n",
       "min     -0.895968   -2.754539   -1.590184   -0.922087   -0.922953   -6.014935   \n",
       "25%     -0.706453   -0.429163   -0.720867   -0.677965   -0.678545   -0.355683   \n",
       "50%     -0.494044    0.503185   -0.303458   -0.492809   -0.490457    0.224657   \n",
       "75%      0.394936    0.704214    0.401811    0.669274    0.667916    0.576534   \n",
       "max      3.008545    0.861398    3.003970    2.885914    2.887282    6.301407   \n",
       "\n",
       "                6           7           8  \n",
       "count  750.000000  750.000000  750.000000  \n",
       "mean     0.018838    0.009379   -0.012433  \n",
       "std      1.028360    0.998996    0.936491  \n",
       "min     -0.759377   -1.515700   -0.772309  \n",
       "25%     -0.606352   -0.762882   -0.641796  \n",
       "50%     -0.415267   -0.219297   -0.452940  \n",
       "75%      0.294171    0.547845    0.447909  \n",
       "max      5.007205    3.784107    3.531440  "
      ]
     },
     "execution_count": 5,
     "metadata": {},
     "output_type": "execute_result"
    }
   ],
   "source": [
    "test_data_scaled = (test_data.iloc[:,:-1].values - scaler.mean_)/np.sqrt(scaler.var_)\n",
    "pd.DataFrame(test_data_scaled).describe()"
   ]
  },
  {
   "cell_type": "markdown",
   "id": "fuzzy-prediction",
   "metadata": {
    "papermill": {
     "duration": 0.02094,
     "end_time": "2021-06-06T10:51:54.333049",
     "exception": false,
     "start_time": "2021-06-06T10:51:54.312109",
     "status": "completed"
    },
    "tags": []
   },
   "source": [
    "## Train a model using Random Forest Classifier\n",
    "Call the `RandomForestclassifier` model from sklearn and fit the model to the training data."
   ]
  },
  {
   "cell_type": "code",
   "execution_count": 6,
   "id": "pacific-february",
   "metadata": {
    "execution": {
     "iopub.execute_input": "2021-06-06T10:51:54.381251Z",
     "iopub.status.busy": "2021-06-06T10:51:54.380565Z",
     "iopub.status.idle": "2021-06-06T10:51:54.624718Z",
     "shell.execute_reply": "2021-06-06T10:51:54.623999Z",
     "shell.execute_reply.started": "2021-05-24T11:38:33.032305Z"
    },
    "papermill": {
     "duration": 0.270425,
     "end_time": "2021-06-06T10:51:54.624922",
     "exception": false,
     "start_time": "2021-06-06T10:51:54.354497",
     "status": "completed"
    },
    "tags": []
   },
   "outputs": [],
   "source": [
    "from sklearn.ensemble import RandomForestClassifier"
   ]
  },
  {
   "cell_type": "code",
   "execution_count": 7,
   "id": "minor-recording",
   "metadata": {
    "execution": {
     "iopub.execute_input": "2021-06-06T10:51:54.673759Z",
     "iopub.status.busy": "2021-06-06T10:51:54.673055Z",
     "iopub.status.idle": "2021-06-06T10:51:54.676081Z",
     "shell.execute_reply": "2021-06-06T10:51:54.675572Z",
     "shell.execute_reply.started": "2021-05-24T11:38:33.293981Z"
    },
    "papermill": {
     "duration": 0.029593,
     "end_time": "2021-06-06T10:51:54.676247",
     "exception": false,
     "start_time": "2021-06-06T10:51:54.646654",
     "status": "completed"
    },
    "tags": []
   },
   "outputs": [],
   "source": [
    "# Initualize the model\n",
    "rf_model = RandomForestClassifier(n_estimators= 300, max_features = \"sqrt\", n_jobs = -1, random_state = 38)\n",
    "\n",
    "# Train the model\n",
    "# rf_model.fit(...)"
   ]
  },
  {
   "cell_type": "markdown",
   "id": "entitled-wesley",
   "metadata": {
    "papermill": {
     "duration": 0.020613,
     "end_time": "2021-06-06T10:51:54.718190",
     "exception": false,
     "start_time": "2021-06-06T10:51:54.697577",
     "status": "completed"
    },
    "tags": []
   },
   "source": [
    "## Model Evaluation\n",
    "Now get predictions from the model, compute the confusion matrix and produce a classification report."
   ]
  },
  {
   "cell_type": "code",
   "execution_count": 8,
   "id": "serial-sword",
   "metadata": {
    "execution": {
     "iopub.execute_input": "2021-06-06T10:51:54.767239Z",
     "iopub.status.busy": "2021-06-06T10:51:54.766199Z",
     "iopub.status.idle": "2021-06-06T10:51:54.769171Z",
     "shell.execute_reply": "2021-06-06T10:51:54.768595Z",
     "shell.execute_reply.started": "2021-05-24T11:38:33.299766Z"
    },
    "papermill": {
     "duration": 0.030047,
     "end_time": "2021-06-06T10:51:54.769353",
     "exception": false,
     "start_time": "2021-06-06T10:51:54.739306",
     "status": "completed"
    },
    "tags": []
   },
   "outputs": [],
   "source": [
    "from sklearn.metrics import confusion_matrix,classification_report, accuracy_score"
   ]
  },
  {
   "cell_type": "code",
   "execution_count": 9,
   "id": "healthy-window",
   "metadata": {
    "execution": {
     "iopub.execute_input": "2021-06-06T10:51:54.816977Z",
     "iopub.status.busy": "2021-06-06T10:51:54.816274Z",
     "iopub.status.idle": "2021-06-06T10:51:54.818677Z",
     "shell.execute_reply": "2021-06-06T10:51:54.818047Z",
     "shell.execute_reply.started": "2021-05-24T11:38:33.314361Z"
    },
    "papermill": {
     "duration": 0.027885,
     "end_time": "2021-06-06T10:51:54.818829",
     "exception": false,
     "start_time": "2021-06-06T10:51:54.790944",
     "status": "completed"
    },
    "tags": []
   },
   "outputs": [],
   "source": [
    "# Training data prediction\n",
    "# ...\n",
    "# Testing data prediction\n",
    "# ..."
   ]
  },
  {
   "cell_type": "markdown",
   "id": "legitimate-leader",
   "metadata": {
    "papermill": {
     "duration": 0.020877,
     "end_time": "2021-06-06T10:51:54.861124",
     "exception": false,
     "start_time": "2021-06-06T10:51:54.840247",
     "status": "completed"
    },
    "tags": []
   },
   "source": [
    "Plot confusion matrixes:"
   ]
  },
  {
   "cell_type": "code",
   "execution_count": 10,
   "id": "virgin-tooth",
   "metadata": {
    "execution": {
     "iopub.execute_input": "2021-06-06T10:51:54.909889Z",
     "iopub.status.busy": "2021-06-06T10:51:54.909104Z",
     "iopub.status.idle": "2021-06-06T10:51:54.912342Z",
     "shell.execute_reply": "2021-06-06T10:51:54.911697Z",
     "shell.execute_reply.started": "2021-05-24T11:38:33.3308Z"
    },
    "papermill": {
     "duration": 0.029709,
     "end_time": "2021-06-06T10:51:54.912499",
     "exception": false,
     "start_time": "2021-06-06T10:51:54.882790",
     "status": "completed"
    },
    "tags": []
   },
   "outputs": [],
   "source": [
    "# Confusion matrix for training data \n",
    "# train_confu_matrix = ...\n",
    "\n",
    "# Confusion matrix for test data \n",
    "# test_confu_matrix = ..."
   ]
  },
  {
   "cell_type": "code",
   "execution_count": 11,
   "id": "contrary-kentucky",
   "metadata": {
    "execution": {
     "iopub.execute_input": "2021-06-06T10:51:54.960783Z",
     "iopub.status.busy": "2021-06-06T10:51:54.960072Z",
     "iopub.status.idle": "2021-06-06T10:51:55.241356Z",
     "shell.execute_reply": "2021-06-06T10:51:55.241890Z",
     "shell.execute_reply.started": "2021-05-24T11:38:33.351142Z"
    },
    "papermill": {
     "duration": 0.307692,
     "end_time": "2021-06-06T10:51:55.242101",
     "exception": false,
     "start_time": "2021-06-06T10:51:54.934409",
     "status": "completed"
    },
    "tags": []
   },
   "outputs": [
    {
     "ename": "NameError",
     "evalue": "name 'train_confu_matrix' is not defined",
     "output_type": "error",
     "traceback": [
      "\u001b[0;31m---------------------------------------------------------------------------\u001b[0m",
      "\u001b[0;31mNameError\u001b[0m                                 Traceback (most recent call last)",
      "\u001b[0;32m<ipython-input-11-4abbe6b2ce03>\u001b[0m in \u001b[0;36m<module>\u001b[0;34m\u001b[0m\n\u001b[1;32m      4\u001b[0m \u001b[0;34m\u001b[0m\u001b[0m\n\u001b[1;32m      5\u001b[0m \u001b[0mplt\u001b[0m\u001b[0;34m.\u001b[0m\u001b[0msubplot\u001b[0m\u001b[0;34m(\u001b[0m\u001b[0;36m121\u001b[0m\u001b[0;34m)\u001b[0m\u001b[0;34m\u001b[0m\u001b[0;34m\u001b[0m\u001b[0m\n\u001b[0;32m----> 6\u001b[0;31m sns.heatmap(train_confu_matrix, annot= True,fmt = \"d\",\n\u001b[0m\u001b[1;32m      7\u001b[0m xticklabels=fault_type, yticklabels=fault_type, cmap = \"Blues\", cbar = False)\n\u001b[1;32m      8\u001b[0m \u001b[0mplt\u001b[0m\u001b[0;34m.\u001b[0m\u001b[0mtitle\u001b[0m\u001b[0;34m(\u001b[0m\u001b[0;34m'Training Confusion Matrix'\u001b[0m\u001b[0;34m)\u001b[0m\u001b[0;34m\u001b[0m\u001b[0;34m\u001b[0m\u001b[0m\n",
      "\u001b[0;31mNameError\u001b[0m: name 'train_confu_matrix' is not defined"
     ]
    },
    {
     "data": {
      "image/png": "[encoded data removed]",
      "text/plain": [
       "<Figure size 1296x576 with 1 Axes>"
      ]
     },
     "metadata": {
      "needs_background": "light"
     },
     "output_type": "display_data"
    }
   ],
   "source": [
    "fault_type = data_time.fault.unique()\n",
    "\n",
    "plt.figure(1,figsize=(18,8))\n",
    "\n",
    "plt.subplot(121)\n",
    "sns.heatmap(train_confu_matrix, annot= True,fmt = \"d\",\n",
    "xticklabels=fault_type, yticklabels=fault_type, cmap = \"Blues\", cbar = False)\n",
    "plt.title('Training Confusion Matrix')\n",
    "plt.xlabel('Predicted')\n",
    "plt.ylabel('True')\n",
    "plt.subplot(122)\n",
    "\n",
    "plt.subplot(122)\n",
    "sns.heatmap(test_confu_matrix, annot = True,\n",
    "xticklabels=fault_type, yticklabels=fault_type, cmap = \"Blues\", cbar = False)\n",
    "plt.title('Test Confusion Matrix')\n",
    "plt.xlabel('Predicted')\n",
    "plt.ylabel('True')\n",
    "\n",
    "plt.show()"
   ]
  },
  {
   "cell_type": "code",
   "execution_count": 12,
   "id": "aggregate-essence",
   "metadata": {
    "execution": {
     "iopub.execute_input": "2021-06-06T10:51:55.290530Z",
     "iopub.status.busy": "2021-06-06T10:51:55.289830Z",
     "iopub.status.idle": "2021-06-06T10:51:55.292987Z",
     "shell.execute_reply": "2021-06-06T10:51:55.293498Z",
     "shell.execute_reply.started": "2021-05-24T11:39:13.438661Z"
    },
    "papermill": {
     "duration": 0.029248,
     "end_time": "2021-06-06T10:51:55.293792",
     "exception": false,
     "start_time": "2021-06-06T10:51:55.264544",
     "status": "completed"
    },
    "tags": []
   },
   "outputs": [],
   "source": [
    "# Model Accuracy, how often is the classifier correct?\n",
    "#print(\"Accuracy:\", accuracy_score(...))"
   ]
  },
  {
   "cell_type": "code",
   "execution_count": 13,
   "id": "presidential-travel",
   "metadata": {
    "execution": {
     "iopub.execute_input": "2021-06-06T10:51:55.342730Z",
     "iopub.status.busy": "2021-06-06T10:51:55.341983Z",
     "iopub.status.idle": "2021-06-06T10:51:55.362004Z",
     "shell.execute_reply": "2021-06-06T10:51:55.362568Z",
     "shell.execute_reply.started": "2021-05-24T11:39:11.328434Z"
    },
    "papermill": {
     "duration": 0.046038,
     "end_time": "2021-06-06T10:51:55.362792",
     "exception": false,
     "start_time": "2021-06-06T10:51:55.316754",
     "status": "completed"
    },
    "tags": []
   },
   "outputs": [
    {
     "ename": "NameError",
     "evalue": "name 'class_report' is not defined",
     "output_type": "error",
     "traceback": [
      "\u001b[0;31m---------------------------------------------------------------------------\u001b[0m",
      "\u001b[0;31mNameError\u001b[0m                                 Traceback (most recent call last)",
      "\u001b[0;32m<ipython-input-13-1a91f4808d9c>\u001b[0m in \u001b[0;36m<module>\u001b[0;34m\u001b[0m\n\u001b[1;32m      1\u001b[0m \u001b[0;31m# Classification report (test set)\u001b[0m\u001b[0;34m\u001b[0m\u001b[0;34m\u001b[0m\u001b[0;34m\u001b[0m\u001b[0m\n\u001b[1;32m      2\u001b[0m \u001b[0;31m#class_report = classification_report(...)\u001b[0m\u001b[0;34m\u001b[0m\u001b[0;34m\u001b[0m\u001b[0;34m\u001b[0m\u001b[0m\n\u001b[0;32m----> 3\u001b[0;31m \u001b[0mprint\u001b[0m\u001b[0;34m(\u001b[0m\u001b[0mclass_report\u001b[0m\u001b[0;34m)\u001b[0m\u001b[0;34m\u001b[0m\u001b[0;34m\u001b[0m\u001b[0m\n\u001b[0m",
      "\u001b[0;31mNameError\u001b[0m: name 'class_report' is not defined"
     ]
    }
   ],
   "source": [
    "# Classification report (test set)\n",
    "#class_report = classification_report(...)\n",
    "print(class_report)"
   ]
  },
  {
   "cell_type": "markdown",
   "id": "traditional-jerusalem",
   "metadata": {
    "papermill": {
     "duration": 0.02219,
     "end_time": "2021-06-06T10:51:55.407768",
     "exception": false,
     "start_time": "2021-06-06T10:51:55.385578",
     "status": "completed"
    },
    "tags": []
   },
   "source": [
    "- **recall**    = for each failure, proportion of those correctly classified over the total of the actual ones = `TP / (TP + sum(FN))`\n",
    "- **precision** = for each failure, proportion of those correctly identified over the total of the predicted = `TP / (TP + sum(FP))`\n",
    "\n",
    "Refer to [Understanding Data Science Classification Metrics in Scikit-Learn in Python](https://towardsdatascience.com/understanding-data-science-classification-metrics-in-scikit-learn-in-python-3bc336865019) for the explanation of these metrics"
   ]
  },
  {
   "cell_type": "markdown",
   "id": "medical-ultimate",
   "metadata": {
    "papermill": {
     "duration": 0.022033,
     "end_time": "2021-06-06T10:51:55.452483",
     "exception": false,
     "start_time": "2021-06-06T10:51:55.430450",
     "status": "completed"
    },
    "tags": []
   },
   "source": [
    "## Feature importance"
   ]
  },
  {
   "cell_type": "code",
   "execution_count": 14,
   "id": "entitled-swimming",
   "metadata": {
    "execution": {
     "iopub.execute_input": "2021-06-06T10:51:55.501811Z",
     "iopub.status.busy": "2021-06-06T10:51:55.501120Z",
     "iopub.status.idle": "2021-06-06T10:51:55.504860Z",
     "shell.execute_reply": "2021-06-06T10:51:55.505524Z",
     "shell.execute_reply.started": "2021-05-24T11:39:08.40631Z"
    },
    "papermill": {
     "duration": 0.03091,
     "end_time": "2021-06-06T10:51:55.505812",
     "exception": false,
     "start_time": "2021-06-06T10:51:55.474902",
     "status": "completed"
    },
    "tags": []
   },
   "outputs": [],
   "source": [
    "# Obtain feature importance\n",
    "# ...\n",
    "# Check that importances sum is 1\n",
    "# ..."
   ]
  },
  {
   "cell_type": "code",
   "execution_count": 15,
   "id": "reasonable-weather",
   "metadata": {
    "execution": {
     "iopub.execute_input": "2021-06-06T10:51:55.555835Z",
     "iopub.status.busy": "2021-06-06T10:51:55.555078Z",
     "iopub.status.idle": "2021-06-06T10:51:55.580040Z",
     "shell.execute_reply": "2021-06-06T10:51:55.579344Z",
     "shell.execute_reply.started": "2021-05-24T11:39:04.631009Z"
    },
    "papermill": {
     "duration": 0.051102,
     "end_time": "2021-06-06T10:51:55.580205",
     "exception": false,
     "start_time": "2021-06-06T10:51:55.529103",
     "status": "completed"
    },
    "tags": []
   },
   "outputs": [
    {
     "ename": "NameError",
     "evalue": "name 'feature_importance' is not defined",
     "output_type": "error",
     "traceback": [
      "\u001b[0;31m---------------------------------------------------------------------------\u001b[0m",
      "\u001b[0;31mNameError\u001b[0m                                 Traceback (most recent call last)",
      "\u001b[0;32m<ipython-input-15-7cbdaf7696e8>\u001b[0m in \u001b[0;36m<module>\u001b[0;34m\u001b[0m\n\u001b[1;32m      6\u001b[0m \u001b[0;34m\u001b[0m\u001b[0m\n\u001b[1;32m      7\u001b[0m \u001b[0;31m# Sort features by descending importance\u001b[0m\u001b[0;34m\u001b[0m\u001b[0;34m\u001b[0m\u001b[0;34m\u001b[0m\u001b[0m\n\u001b[0;32m----> 8\u001b[0;31m \u001b[0mindices\u001b[0m \u001b[0;34m=\u001b[0m \u001b[0mnp\u001b[0m\u001b[0;34m.\u001b[0m\u001b[0margsort\u001b[0m\u001b[0;34m(\u001b[0m\u001b[0mfeature_importance\u001b[0m\u001b[0;34m)\u001b[0m\u001b[0;34m[\u001b[0m\u001b[0;34m:\u001b[0m\u001b[0;34m:\u001b[0m\u001b[0;34m-\u001b[0m\u001b[0;36m1\u001b[0m\u001b[0;34m]\u001b[0m\u001b[0;34m\u001b[0m\u001b[0;34m\u001b[0m\u001b[0m\n\u001b[0m\u001b[1;32m      9\u001b[0m \u001b[0;34m\u001b[0m\u001b[0m\n\u001b[1;32m     10\u001b[0m \u001b[0;31m# Reorder dict by descending feature importance\u001b[0m\u001b[0;34m\u001b[0m\u001b[0;34m\u001b[0m\u001b[0;34m\u001b[0m\u001b[0m\n",
      "\u001b[0;31mNameError\u001b[0m: name 'feature_importance' is not defined"
     ]
    }
   ],
   "source": [
    "# Retrieve features' names\n",
    "#features = ...\n",
    "\n",
    "# And count them\n",
    "# num_features = ...\n",
    "\n",
    "# Sort features by descending importance\n",
    "indices = np.argsort(feature_importance)[::-1]\n",
    "\n",
    "# Reorder dict by descending feature importance\n",
    "features_sorted = []\n",
    "for key in indices:\n",
    "    features_sorted = np.append(features_sorted, features[key])"
   ]
  },
  {
   "cell_type": "code",
   "execution_count": 16,
   "id": "scientific-drinking",
   "metadata": {
    "execution": {
     "iopub.execute_input": "2021-06-06T10:51:55.629928Z",
     "iopub.status.busy": "2021-06-06T10:51:55.629217Z",
     "iopub.status.idle": "2021-06-06T10:51:55.633228Z",
     "shell.execute_reply": "2021-06-06T10:51:55.632659Z"
    },
    "papermill": {
     "duration": 0.029919,
     "end_time": "2021-06-06T10:51:55.633403",
     "exception": false,
     "start_time": "2021-06-06T10:51:55.603484",
     "status": "completed"
    },
    "tags": []
   },
   "outputs": [],
   "source": [
    "# Bar plot of feature importance (descending order)\n",
    "#   Place the code below\n",
    "# ..."
   ]
  }
 ],
 "metadata": {
  "kernelspec": {
   "display_name": "Python 3",
   "language": "python",
   "name": "python3"
  },
  "language_info": {
   "codemirror_mode": {
    "name": "ipython",
    "version": 3
   },
   "file_extension": ".py",
   "mimetype": "text/x-python",
   "name": "python",
   "nbconvert_exporter": "python",
   "pygments_lexer": "ipython3",
   "version": "3.7.10"
  },
  "papermill": {
   "default_parameters": {},
   "duration": 13.835283,
   "end_time": "2021-06-06T10:51:57.567908",
   "environment_variables": {},
   "exception": null,
   "input_path": "__notebook__.ipynb",
   "output_path": "__notebook__.ipynb",
   "parameters": {},
   "start_time": "2021-06-06T10:51:43.732625",
   "version": "2.3.3"
  }
 },
 "nbformat": 4,
 "nbformat_minor": 5
}
