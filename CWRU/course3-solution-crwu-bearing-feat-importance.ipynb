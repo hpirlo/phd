{
 "cells": [
  {
   "cell_type": "code",
   "execution_count": 1,
   "id": "under-pharmacology",
   "metadata": {
    "_cell_guid": "b1076dfc-b9ad-4769-8c92-a6c4dae69d19",
    "_uuid": "8f2839f25d086af736a60e9eeb907d3b93b6e0e5",
    "execution": {
     "iopub.execute_input": "2021-05-24T14:32:32.275935Z",
     "iopub.status.busy": "2021-05-24T14:32:32.274127Z",
     "iopub.status.idle": "2021-05-24T14:32:33.415841Z",
     "shell.execute_reply": "2021-05-24T14:32:33.416331Z",
     "shell.execute_reply.started": "2021-05-24T11:24:52.846563Z"
    },
    "papermill": {
     "duration": 1.166388,
     "end_time": "2021-05-24T14:32:33.416707",
     "exception": false,
     "start_time": "2021-05-24T14:32:32.250319",
     "status": "completed"
    },
    "tags": []
   },
   "outputs": [
    {
     "name": "stdout",
     "output_type": "stream",
     "text": [
      "/kaggle/input/cwru-bearing-datasets/CWRU_48k_load_1_CNN_data.npz\n",
      "/kaggle/input/cwru-bearing-datasets/feature_time_48k_2048_load_1.csv\n",
      "/kaggle/input/cwru-bearing-datasets/raw/IR021_1_214.mat\n",
      "/kaggle/input/cwru-bearing-datasets/raw/B014_1_190.mat\n",
      "/kaggle/input/cwru-bearing-datasets/raw/OR007_6_1_136.mat\n",
      "/kaggle/input/cwru-bearing-datasets/raw/OR014_6_1_202.mat\n",
      "/kaggle/input/cwru-bearing-datasets/raw/B007_1_123.mat\n",
      "/kaggle/input/cwru-bearing-datasets/raw/IR007_1_110.mat\n",
      "/kaggle/input/cwru-bearing-datasets/raw/B021_1_227.mat\n",
      "/kaggle/input/cwru-bearing-datasets/raw/Time_Normal_1_098.mat\n",
      "/kaggle/input/cwru-bearing-datasets/raw/OR021_6_1_239.mat\n",
      "/kaggle/input/cwru-bearing-datasets/raw/IR014_1_175.mat\n"
     ]
    }
   ],
   "source": [
    "import numpy as np # linear algebra\n",
    "import pandas as pd # data processing, CSV file I/O (e.g. pd.read_csv)\n",
    "\n",
    "from sklearn.model_selection import train_test_split\n",
    "from sklearn.preprocessing import StandardScaler\n",
    "\n",
    "import seaborn as sns\n",
    "import matplotlib.pyplot as plt\n",
    "\n",
    "import os\n",
    "for dirname, _, filenames in os.walk('/kaggle/input'):\n",
    "    for filename in filenames:\n",
    "        print(os.path.join(dirname, filename))"
   ]
  },
  {
   "cell_type": "markdown",
   "id": "agricultural-potato",
   "metadata": {
    "papermill": {
     "duration": 0.018446,
     "end_time": "2021-05-24T14:32:33.454412",
     "exception": false,
     "start_time": "2021-05-24T14:32:33.435966",
     "status": "completed"
    },
    "tags": []
   },
   "source": [
    "## Fault type identification\n",
    "There are 10 types of faults, linked to each bearing deffect:\n",
    "\n",
    "- **Ball_007_1**: Ball defect (0.007 inch)\n",
    "- **Ball_014_1**: Ball defect (0.014 inch)\n",
    "- **Ball_021_1**: Ball defect (0.021 inch)\n",
    "- **IR_007_1**: Inner race fault (0.007 inch)\n",
    "- **IR_014_1**: Inner race fault (0.014 inch)\n",
    "- **IR_021_1**: Inner race fault (0.021 inch)\n",
    "- **Normal_1**: Normal\n",
    "- **OR_007_6_1**: Outer race fault (0.007 inch, data collected from 6 O'clock position)\n",
    "- **OR_014_6_1**: Outer race fault (0.014 inch, 6 O'clock)\n",
    "- **OR_021_6_1**: Outer race fault (0.021 inch, 6 O'clock)"
   ]
  },
  {
   "cell_type": "markdown",
   "id": "helpful-camera",
   "metadata": {
    "papermill": {
     "duration": 0.018599,
     "end_time": "2021-05-24T14:32:33.492260",
     "exception": false,
     "start_time": "2021-05-24T14:32:33.473661",
     "status": "completed"
    },
    "tags": []
   },
   "source": [
    "## Get the data\n",
    "The file we will read is the result of preprocessing the raw data files (folder `/kaggle/input/cwru-bearing-datasets/raw/`).\n",
    "\n",
    "Time series segments contains 2048 points each. Given that the sampling frequency is 48kHz each time serie covers 0.04 seconds."
   ]
  },
  {
   "cell_type": "code",
   "execution_count": 2,
   "id": "prompt-official",
   "metadata": {
    "execution": {
     "iopub.execute_input": "2021-05-24T14:32:33.535137Z",
     "iopub.status.busy": "2021-05-24T14:32:33.534490Z",
     "iopub.status.idle": "2021-05-24T14:32:33.598350Z",
     "shell.execute_reply": "2021-05-24T14:32:33.597855Z",
     "shell.execute_reply.started": "2021-05-24T11:24:52.858263Z"
    },
    "papermill": {
     "duration": 0.087245,
     "end_time": "2021-05-24T14:32:33.598516",
     "exception": false,
     "start_time": "2021-05-24T14:32:33.511271",
     "status": "completed"
    },
    "tags": []
   },
   "outputs": [
    {
     "data": {
      "text/html": [
       "<div>\n",
       "<style scoped>\n",
       "    .dataframe tbody tr th:only-of-type {\n",
       "        vertical-align: middle;\n",
       "    }\n",
       "\n",
       "    .dataframe tbody tr th {\n",
       "        vertical-align: top;\n",
       "    }\n",
       "\n",
       "    .dataframe thead th {\n",
       "        text-align: right;\n",
       "    }\n",
       "</style>\n",
       "<table border=\"1\" class=\"dataframe\">\n",
       "  <thead>\n",
       "    <tr style=\"text-align: right;\">\n",
       "      <th></th>\n",
       "      <th>max</th>\n",
       "      <th>min</th>\n",
       "      <th>mean</th>\n",
       "      <th>sd</th>\n",
       "      <th>rms</th>\n",
       "      <th>skewness</th>\n",
       "      <th>kurtosis</th>\n",
       "      <th>crest</th>\n",
       "      <th>form</th>\n",
       "      <th>fault</th>\n",
       "    </tr>\n",
       "  </thead>\n",
       "  <tbody>\n",
       "    <tr>\n",
       "      <th>0</th>\n",
       "      <td>0.35986</td>\n",
       "      <td>-0.41890</td>\n",
       "      <td>0.017840</td>\n",
       "      <td>0.122746</td>\n",
       "      <td>0.124006</td>\n",
       "      <td>-0.118571</td>\n",
       "      <td>-0.042219</td>\n",
       "      <td>2.901946</td>\n",
       "      <td>6.950855</td>\n",
       "      <td>Ball_007_1</td>\n",
       "    </tr>\n",
       "    <tr>\n",
       "      <th>1</th>\n",
       "      <td>0.46772</td>\n",
       "      <td>-0.36111</td>\n",
       "      <td>0.022255</td>\n",
       "      <td>0.132488</td>\n",
       "      <td>0.134312</td>\n",
       "      <td>0.174699</td>\n",
       "      <td>-0.081548</td>\n",
       "      <td>3.482334</td>\n",
       "      <td>6.035202</td>\n",
       "      <td>Ball_007_1</td>\n",
       "    </tr>\n",
       "    <tr>\n",
       "      <th>2</th>\n",
       "      <td>0.46855</td>\n",
       "      <td>-0.43809</td>\n",
       "      <td>0.020470</td>\n",
       "      <td>0.149651</td>\n",
       "      <td>0.151008</td>\n",
       "      <td>0.040339</td>\n",
       "      <td>-0.274069</td>\n",
       "      <td>3.102819</td>\n",
       "      <td>7.376926</td>\n",
       "      <td>Ball_007_1</td>\n",
       "    </tr>\n",
       "    <tr>\n",
       "      <th>3</th>\n",
       "      <td>0.58475</td>\n",
       "      <td>-0.54303</td>\n",
       "      <td>0.020960</td>\n",
       "      <td>0.157067</td>\n",
       "      <td>0.158422</td>\n",
       "      <td>-0.023266</td>\n",
       "      <td>0.134692</td>\n",
       "      <td>3.691097</td>\n",
       "      <td>7.558387</td>\n",
       "      <td>Ball_007_1</td>\n",
       "    </tr>\n",
       "    <tr>\n",
       "      <th>4</th>\n",
       "      <td>0.44685</td>\n",
       "      <td>-0.57891</td>\n",
       "      <td>0.022167</td>\n",
       "      <td>0.138189</td>\n",
       "      <td>0.139922</td>\n",
       "      <td>-0.081534</td>\n",
       "      <td>0.402783</td>\n",
       "      <td>3.193561</td>\n",
       "      <td>6.312085</td>\n",
       "      <td>Ball_007_1</td>\n",
       "    </tr>\n",
       "    <tr>\n",
       "      <th>...</th>\n",
       "      <td>...</td>\n",
       "      <td>...</td>\n",
       "      <td>...</td>\n",
       "      <td>...</td>\n",
       "      <td>...</td>\n",
       "      <td>...</td>\n",
       "      <td>...</td>\n",
       "      <td>...</td>\n",
       "      <td>...</td>\n",
       "      <td>...</td>\n",
       "    </tr>\n",
       "    <tr>\n",
       "      <th>2295</th>\n",
       "      <td>0.21425</td>\n",
       "      <td>-0.19839</td>\n",
       "      <td>0.010769</td>\n",
       "      <td>0.064100</td>\n",
       "      <td>0.064983</td>\n",
       "      <td>-0.212497</td>\n",
       "      <td>-0.119312</td>\n",
       "      <td>3.297037</td>\n",
       "      <td>6.034174</td>\n",
       "      <td>Normal_1</td>\n",
       "    </tr>\n",
       "    <tr>\n",
       "      <th>2296</th>\n",
       "      <td>0.21967</td>\n",
       "      <td>-0.20882</td>\n",
       "      <td>0.013136</td>\n",
       "      <td>0.068654</td>\n",
       "      <td>0.069883</td>\n",
       "      <td>-0.061308</td>\n",
       "      <td>-0.295122</td>\n",
       "      <td>3.143410</td>\n",
       "      <td>5.319958</td>\n",
       "      <td>Normal_1</td>\n",
       "    </tr>\n",
       "    <tr>\n",
       "      <th>2297</th>\n",
       "      <td>0.20799</td>\n",
       "      <td>-0.21613</td>\n",
       "      <td>0.012571</td>\n",
       "      <td>0.067128</td>\n",
       "      <td>0.068279</td>\n",
       "      <td>-0.154754</td>\n",
       "      <td>-0.071405</td>\n",
       "      <td>3.046161</td>\n",
       "      <td>5.431299</td>\n",
       "      <td>Normal_1</td>\n",
       "    </tr>\n",
       "    <tr>\n",
       "      <th>2298</th>\n",
       "      <td>0.21425</td>\n",
       "      <td>-0.22405</td>\n",
       "      <td>0.012608</td>\n",
       "      <td>0.066813</td>\n",
       "      <td>0.067977</td>\n",
       "      <td>-0.326966</td>\n",
       "      <td>0.023662</td>\n",
       "      <td>3.151821</td>\n",
       "      <td>5.391672</td>\n",
       "      <td>Normal_1</td>\n",
       "    </tr>\n",
       "    <tr>\n",
       "      <th>2299</th>\n",
       "      <td>0.19610</td>\n",
       "      <td>-0.24721</td>\n",
       "      <td>0.012209</td>\n",
       "      <td>0.063243</td>\n",
       "      <td>0.064396</td>\n",
       "      <td>-0.351762</td>\n",
       "      <td>0.226294</td>\n",
       "      <td>3.045244</td>\n",
       "      <td>5.274392</td>\n",
       "      <td>Normal_1</td>\n",
       "    </tr>\n",
       "  </tbody>\n",
       "</table>\n",
       "<p>2300 rows × 10 columns</p>\n",
       "</div>"
      ],
      "text/plain": [
       "          max      min      mean        sd       rms  skewness  kurtosis  \\\n",
       "0     0.35986 -0.41890  0.017840  0.122746  0.124006 -0.118571 -0.042219   \n",
       "1     0.46772 -0.36111  0.022255  0.132488  0.134312  0.174699 -0.081548   \n",
       "2     0.46855 -0.43809  0.020470  0.149651  0.151008  0.040339 -0.274069   \n",
       "3     0.58475 -0.54303  0.020960  0.157067  0.158422 -0.023266  0.134692   \n",
       "4     0.44685 -0.57891  0.022167  0.138189  0.139922 -0.081534  0.402783   \n",
       "...       ...      ...       ...       ...       ...       ...       ...   \n",
       "2295  0.21425 -0.19839  0.010769  0.064100  0.064983 -0.212497 -0.119312   \n",
       "2296  0.21967 -0.20882  0.013136  0.068654  0.069883 -0.061308 -0.295122   \n",
       "2297  0.20799 -0.21613  0.012571  0.067128  0.068279 -0.154754 -0.071405   \n",
       "2298  0.21425 -0.22405  0.012608  0.066813  0.067977 -0.326966  0.023662   \n",
       "2299  0.19610 -0.24721  0.012209  0.063243  0.064396 -0.351762  0.226294   \n",
       "\n",
       "         crest      form       fault  \n",
       "0     2.901946  6.950855  Ball_007_1  \n",
       "1     3.482334  6.035202  Ball_007_1  \n",
       "2     3.102819  7.376926  Ball_007_1  \n",
       "3     3.691097  7.558387  Ball_007_1  \n",
       "4     3.193561  6.312085  Ball_007_1  \n",
       "...        ...       ...         ...  \n",
       "2295  3.297037  6.034174    Normal_1  \n",
       "2296  3.143410  5.319958    Normal_1  \n",
       "2297  3.046161  5.431299    Normal_1  \n",
       "2298  3.151821  5.391672    Normal_1  \n",
       "2299  3.045244  5.274392    Normal_1  \n",
       "\n",
       "[2300 rows x 10 columns]"
      ]
     },
     "execution_count": 2,
     "metadata": {},
     "output_type": "execute_result"
    }
   ],
   "source": [
    "data_time = pd.read_csv(\"../input/cwru-bearing-datasets/feature_time_48k_2048_load_1.csv\")\n",
    "data_time"
   ]
  },
  {
   "cell_type": "markdown",
   "id": "sharing-bacon",
   "metadata": {
    "papermill": {
     "duration": 0.018202,
     "end_time": "2021-05-24T14:32:33.635656",
     "exception": false,
     "start_time": "2021-05-24T14:32:33.617454",
     "status": "completed"
    },
    "tags": []
   },
   "source": [
    "## Split into train and test datasets"
   ]
  },
  {
   "cell_type": "code",
   "execution_count": 3,
   "id": "legendary-glossary",
   "metadata": {
    "execution": {
     "iopub.execute_input": "2021-05-24T14:32:33.680756Z",
     "iopub.status.busy": "2021-05-24T14:32:33.679992Z",
     "iopub.status.idle": "2021-05-24T14:32:33.697152Z",
     "shell.execute_reply": "2021-05-24T14:32:33.697671Z",
     "shell.execute_reply.started": "2021-05-24T11:24:52.893222Z"
    },
    "papermill": {
     "duration": 0.043628,
     "end_time": "2021-05-24T14:32:33.697841",
     "exception": false,
     "start_time": "2021-05-24T14:32:33.654213",
     "status": "completed"
    },
    "tags": []
   },
   "outputs": [
    {
     "name": "stdout",
     "output_type": "stream",
     "text": [
      "Normal_1      155\n",
      "IR_021_1      155\n",
      "Ball_021_1    155\n",
      "IR_007_1      155\n",
      "OR_021_6_1    155\n",
      "OR_007_6_1    155\n",
      "Ball_014_1    155\n",
      "OR_014_6_1    155\n",
      "Ball_007_1    155\n",
      "IR_014_1      155\n",
      "Name: fault, dtype: int64 \n",
      "\n",
      " IR_007_1      75\n",
      "OR_021_6_1    75\n",
      "OR_007_6_1    75\n",
      "Ball_007_1    75\n",
      "Ball_014_1    75\n",
      "Normal_1      75\n",
      "IR_021_1      75\n",
      "Ball_021_1    75\n",
      "OR_014_6_1    75\n",
      "IR_014_1      75\n",
      "Name: fault, dtype: int64\n"
     ]
    }
   ],
   "source": [
    "train_data, test_data = train_test_split(data_time, test_size = 750, stratify = data_time['fault'], random_state = 1234)\n",
    "print( train_data['fault'].value_counts(), \"\\n\\n\", test_data['fault'].value_counts())"
   ]
  },
  {
   "cell_type": "markdown",
   "id": "loaded-edinburgh",
   "metadata": {
    "papermill": {
     "duration": 0.018784,
     "end_time": "2021-05-24T14:32:33.735769",
     "exception": false,
     "start_time": "2021-05-24T14:32:33.716985",
     "status": "completed"
    },
    "tags": []
   },
   "source": [
    "## Scale features in training set"
   ]
  },
  {
   "cell_type": "code",
   "execution_count": 4,
   "id": "administrative-meditation",
   "metadata": {
    "execution": {
     "iopub.execute_input": "2021-05-24T14:32:33.782448Z",
     "iopub.status.busy": "2021-05-24T14:32:33.781761Z",
     "iopub.status.idle": "2021-05-24T14:32:33.830793Z",
     "shell.execute_reply": "2021-05-24T14:32:33.831276Z",
     "shell.execute_reply.started": "2021-05-24T11:24:52.909586Z"
    },
    "papermill": {
     "duration": 0.076495,
     "end_time": "2021-05-24T14:32:33.831481",
     "exception": false,
     "start_time": "2021-05-24T14:32:33.754986",
     "status": "completed"
    },
    "tags": []
   },
   "outputs": [
    {
     "data": {
      "text/html": [
       "<div>\n",
       "<style scoped>\n",
       "    .dataframe tbody tr th:only-of-type {\n",
       "        vertical-align: middle;\n",
       "    }\n",
       "\n",
       "    .dataframe tbody tr th {\n",
       "        vertical-align: top;\n",
       "    }\n",
       "\n",
       "    .dataframe thead th {\n",
       "        text-align: right;\n",
       "    }\n",
       "</style>\n",
       "<table border=\"1\" class=\"dataframe\">\n",
       "  <thead>\n",
       "    <tr style=\"text-align: right;\">\n",
       "      <th></th>\n",
       "      <th>0</th>\n",
       "      <th>1</th>\n",
       "      <th>2</th>\n",
       "      <th>3</th>\n",
       "      <th>4</th>\n",
       "      <th>5</th>\n",
       "      <th>6</th>\n",
       "      <th>7</th>\n",
       "      <th>8</th>\n",
       "    </tr>\n",
       "  </thead>\n",
       "  <tbody>\n",
       "    <tr>\n",
       "      <th>count</th>\n",
       "      <td>1.550000e+03</td>\n",
       "      <td>1.550000e+03</td>\n",
       "      <td>1.550000e+03</td>\n",
       "      <td>1.550000e+03</td>\n",
       "      <td>1.550000e+03</td>\n",
       "      <td>1.550000e+03</td>\n",
       "      <td>1.550000e+03</td>\n",
       "      <td>1.550000e+03</td>\n",
       "      <td>1.550000e+03</td>\n",
       "    </tr>\n",
       "    <tr>\n",
       "      <th>mean</th>\n",
       "      <td>1.260640e-16</td>\n",
       "      <td>1.002782e-16</td>\n",
       "      <td>-2.888012e-16</td>\n",
       "      <td>6.016693e-17</td>\n",
       "      <td>-5.386372e-17</td>\n",
       "      <td>1.833659e-17</td>\n",
       "      <td>-5.500976e-17</td>\n",
       "      <td>4.950878e-16</td>\n",
       "      <td>-2.521281e-17</td>\n",
       "    </tr>\n",
       "    <tr>\n",
       "      <th>std</th>\n",
       "      <td>1.000323e+00</td>\n",
       "      <td>1.000323e+00</td>\n",
       "      <td>1.000323e+00</td>\n",
       "      <td>1.000323e+00</td>\n",
       "      <td>1.000323e+00</td>\n",
       "      <td>1.000323e+00</td>\n",
       "      <td>1.000323e+00</td>\n",
       "      <td>1.000323e+00</td>\n",
       "      <td>1.000323e+00</td>\n",
       "    </tr>\n",
       "    <tr>\n",
       "      <th>min</th>\n",
       "      <td>-8.877055e-01</td>\n",
       "      <td>-2.951564e+00</td>\n",
       "      <td>-1.935376e+00</td>\n",
       "      <td>-9.258092e-01</td>\n",
       "      <td>-9.231913e-01</td>\n",
       "      <td>-5.951422e+00</td>\n",
       "      <td>-7.874742e-01</td>\n",
       "      <td>-1.481163e+00</td>\n",
       "      <td>-7.775653e-01</td>\n",
       "    </tr>\n",
       "    <tr>\n",
       "      <th>25%</th>\n",
       "      <td>-7.088474e-01</td>\n",
       "      <td>-3.753614e-01</td>\n",
       "      <td>-6.908705e-01</td>\n",
       "      <td>-6.755048e-01</td>\n",
       "      <td>-6.760659e-01</td>\n",
       "      <td>-3.678525e-01</td>\n",
       "      <td>-6.073122e-01</td>\n",
       "      <td>-8.064817e-01</td>\n",
       "      <td>-6.475107e-01</td>\n",
       "    </tr>\n",
       "    <tr>\n",
       "      <th>50%</th>\n",
       "      <td>-4.958143e-01</td>\n",
       "      <td>5.113022e-01</td>\n",
       "      <td>-3.141526e-01</td>\n",
       "      <td>-5.055027e-01</td>\n",
       "      <td>-5.038108e-01</td>\n",
       "      <td>2.140248e-01</td>\n",
       "      <td>-4.182916e-01</td>\n",
       "      <td>-2.135605e-01</td>\n",
       "      <td>-4.548003e-01</td>\n",
       "    </tr>\n",
       "    <tr>\n",
       "      <th>75%</th>\n",
       "      <td>4.477234e-01</td>\n",
       "      <td>7.003484e-01</td>\n",
       "      <td>4.560105e-01</td>\n",
       "      <td>7.015641e-01</td>\n",
       "      <td>7.003255e-01</td>\n",
       "      <td>5.823124e-01</td>\n",
       "      <td>2.860828e-01</td>\n",
       "      <td>5.648177e-01</td>\n",
       "      <td>4.360429e-01</td>\n",
       "    </tr>\n",
       "    <tr>\n",
       "      <th>max</th>\n",
       "      <td>3.297226e+00</td>\n",
       "      <td>8.671141e-01</td>\n",
       "      <td>3.503861e+00</td>\n",
       "      <td>2.980548e+00</td>\n",
       "      <td>2.981995e+00</td>\n",
       "      <td>4.906756e+00</td>\n",
       "      <td>6.349353e+00</td>\n",
       "      <td>4.049712e+00</td>\n",
       "      <td>9.629399e+00</td>\n",
       "    </tr>\n",
       "  </tbody>\n",
       "</table>\n",
       "</div>"
      ],
      "text/plain": [
       "                  0             1             2             3             4  \\\n",
       "count  1.550000e+03  1.550000e+03  1.550000e+03  1.550000e+03  1.550000e+03   \n",
       "mean   1.260640e-16  1.002782e-16 -2.888012e-16  6.016693e-17 -5.386372e-17   \n",
       "std    1.000323e+00  1.000323e+00  1.000323e+00  1.000323e+00  1.000323e+00   \n",
       "min   -8.877055e-01 -2.951564e+00 -1.935376e+00 -9.258092e-01 -9.231913e-01   \n",
       "25%   -7.088474e-01 -3.753614e-01 -6.908705e-01 -6.755048e-01 -6.760659e-01   \n",
       "50%   -4.958143e-01  5.113022e-01 -3.141526e-01 -5.055027e-01 -5.038108e-01   \n",
       "75%    4.477234e-01  7.003484e-01  4.560105e-01  7.015641e-01  7.003255e-01   \n",
       "max    3.297226e+00  8.671141e-01  3.503861e+00  2.980548e+00  2.981995e+00   \n",
       "\n",
       "                  5             6             7             8  \n",
       "count  1.550000e+03  1.550000e+03  1.550000e+03  1.550000e+03  \n",
       "mean   1.833659e-17 -5.500976e-17  4.950878e-16 -2.521281e-17  \n",
       "std    1.000323e+00  1.000323e+00  1.000323e+00  1.000323e+00  \n",
       "min   -5.951422e+00 -7.874742e-01 -1.481163e+00 -7.775653e-01  \n",
       "25%   -3.678525e-01 -6.073122e-01 -8.064817e-01 -6.475107e-01  \n",
       "50%    2.140248e-01 -4.182916e-01 -2.135605e-01 -4.548003e-01  \n",
       "75%    5.823124e-01  2.860828e-01  5.648177e-01  4.360429e-01  \n",
       "max    4.906756e+00  6.349353e+00  4.049712e+00  9.629399e+00  "
      ]
     },
     "execution_count": 4,
     "metadata": {},
     "output_type": "execute_result"
    }
   ],
   "source": [
    "# Scale each column to have zero mean and standard deviation equal to 1\n",
    "scaler = StandardScaler()\n",
    "train_data_scaled = scaler.fit_transform(train_data.iloc[:,:-1]) # Skip last column 'fault'\n",
    "pd.DataFrame(train_data_scaled).describe()"
   ]
  },
  {
   "cell_type": "code",
   "execution_count": 5,
   "id": "social-default",
   "metadata": {
    "execution": {
     "iopub.execute_input": "2021-05-24T14:32:33.883196Z",
     "iopub.status.busy": "2021-05-24T14:32:33.882526Z",
     "iopub.status.idle": "2021-05-24T14:32:33.915091Z",
     "shell.execute_reply": "2021-05-24T14:32:33.915578Z",
     "shell.execute_reply.started": "2021-05-24T11:24:52.956896Z"
    },
    "papermill": {
     "duration": 0.063974,
     "end_time": "2021-05-24T14:32:33.915761",
     "exception": false,
     "start_time": "2021-05-24T14:32:33.851787",
     "status": "completed"
    },
    "tags": []
   },
   "outputs": [
    {
     "data": {
      "text/html": [
       "<div>\n",
       "<style scoped>\n",
       "    .dataframe tbody tr th:only-of-type {\n",
       "        vertical-align: middle;\n",
       "    }\n",
       "\n",
       "    .dataframe tbody tr th {\n",
       "        vertical-align: top;\n",
       "    }\n",
       "\n",
       "    .dataframe thead th {\n",
       "        text-align: right;\n",
       "    }\n",
       "</style>\n",
       "<table border=\"1\" class=\"dataframe\">\n",
       "  <thead>\n",
       "    <tr style=\"text-align: right;\">\n",
       "      <th></th>\n",
       "      <th>0</th>\n",
       "      <th>1</th>\n",
       "      <th>2</th>\n",
       "      <th>3</th>\n",
       "      <th>4</th>\n",
       "      <th>5</th>\n",
       "      <th>6</th>\n",
       "      <th>7</th>\n",
       "      <th>8</th>\n",
       "    </tr>\n",
       "  </thead>\n",
       "  <tbody>\n",
       "    <tr>\n",
       "      <th>count</th>\n",
       "      <td>750.000000</td>\n",
       "      <td>750.000000</td>\n",
       "      <td>750.000000</td>\n",
       "      <td>750.000000</td>\n",
       "      <td>750.000000</td>\n",
       "      <td>750.000000</td>\n",
       "      <td>750.000000</td>\n",
       "      <td>750.000000</td>\n",
       "      <td>750.000000</td>\n",
       "    </tr>\n",
       "    <tr>\n",
       "      <th>mean</th>\n",
       "      <td>-0.013718</td>\n",
       "      <td>0.003277</td>\n",
       "      <td>-0.018151</td>\n",
       "      <td>-0.013327</td>\n",
       "      <td>-0.013375</td>\n",
       "      <td>-0.035946</td>\n",
       "      <td>0.018838</td>\n",
       "      <td>0.009379</td>\n",
       "      <td>-0.012433</td>\n",
       "    </tr>\n",
       "    <tr>\n",
       "      <th>std</th>\n",
       "      <td>0.976752</td>\n",
       "      <td>0.993896</td>\n",
       "      <td>1.003708</td>\n",
       "      <td>0.987301</td>\n",
       "      <td>0.987315</td>\n",
       "      <td>1.105931</td>\n",
       "      <td>1.028360</td>\n",
       "      <td>0.998996</td>\n",
       "      <td>0.936491</td>\n",
       "    </tr>\n",
       "    <tr>\n",
       "      <th>min</th>\n",
       "      <td>-0.895968</td>\n",
       "      <td>-2.754539</td>\n",
       "      <td>-1.590184</td>\n",
       "      <td>-0.922087</td>\n",
       "      <td>-0.922953</td>\n",
       "      <td>-6.014935</td>\n",
       "      <td>-0.759377</td>\n",
       "      <td>-1.515700</td>\n",
       "      <td>-0.772309</td>\n",
       "    </tr>\n",
       "    <tr>\n",
       "      <th>25%</th>\n",
       "      <td>-0.706453</td>\n",
       "      <td>-0.429163</td>\n",
       "      <td>-0.720867</td>\n",
       "      <td>-0.677965</td>\n",
       "      <td>-0.678545</td>\n",
       "      <td>-0.355683</td>\n",
       "      <td>-0.606352</td>\n",
       "      <td>-0.762882</td>\n",
       "      <td>-0.641796</td>\n",
       "    </tr>\n",
       "    <tr>\n",
       "      <th>50%</th>\n",
       "      <td>-0.494044</td>\n",
       "      <td>0.503185</td>\n",
       "      <td>-0.303458</td>\n",
       "      <td>-0.492809</td>\n",
       "      <td>-0.490457</td>\n",
       "      <td>0.224657</td>\n",
       "      <td>-0.415267</td>\n",
       "      <td>-0.219297</td>\n",
       "      <td>-0.452940</td>\n",
       "    </tr>\n",
       "    <tr>\n",
       "      <th>75%</th>\n",
       "      <td>0.394936</td>\n",
       "      <td>0.704214</td>\n",
       "      <td>0.401811</td>\n",
       "      <td>0.669274</td>\n",
       "      <td>0.667916</td>\n",
       "      <td>0.576534</td>\n",
       "      <td>0.294171</td>\n",
       "      <td>0.547845</td>\n",
       "      <td>0.447909</td>\n",
       "    </tr>\n",
       "    <tr>\n",
       "      <th>max</th>\n",
       "      <td>3.008545</td>\n",
       "      <td>0.861398</td>\n",
       "      <td>3.003970</td>\n",
       "      <td>2.885914</td>\n",
       "      <td>2.887282</td>\n",
       "      <td>6.301407</td>\n",
       "      <td>5.007205</td>\n",
       "      <td>3.784107</td>\n",
       "      <td>3.531440</td>\n",
       "    </tr>\n",
       "  </tbody>\n",
       "</table>\n",
       "</div>"
      ],
      "text/plain": [
       "                0           1           2           3           4           5  \\\n",
       "count  750.000000  750.000000  750.000000  750.000000  750.000000  750.000000   \n",
       "mean    -0.013718    0.003277   -0.018151   -0.013327   -0.013375   -0.035946   \n",
       "std      0.976752    0.993896    1.003708    0.987301    0.987315    1.105931   \n",
       "min     -0.895968   -2.754539   -1.590184   -0.922087   -0.922953   -6.014935   \n",
       "25%     -0.706453   -0.429163   -0.720867   -0.677965   -0.678545   -0.355683   \n",
       "50%     -0.494044    0.503185   -0.303458   -0.492809   -0.490457    0.224657   \n",
       "75%      0.394936    0.704214    0.401811    0.669274    0.667916    0.576534   \n",
       "max      3.008545    0.861398    3.003970    2.885914    2.887282    6.301407   \n",
       "\n",
       "                6           7           8  \n",
       "count  750.000000  750.000000  750.000000  \n",
       "mean     0.018838    0.009379   -0.012433  \n",
       "std      1.028360    0.998996    0.936491  \n",
       "min     -0.759377   -1.515700   -0.772309  \n",
       "25%     -0.606352   -0.762882   -0.641796  \n",
       "50%     -0.415267   -0.219297   -0.452940  \n",
       "75%      0.294171    0.547845    0.447909  \n",
       "max      5.007205    3.784107    3.531440  "
      ]
     },
     "execution_count": 5,
     "metadata": {},
     "output_type": "execute_result"
    }
   ],
   "source": [
    "test_data_scaled = (test_data.iloc[:,:-1].values - scaler.mean_)/np.sqrt(scaler.var_)\n",
    "pd.DataFrame(test_data_scaled).describe()"
   ]
  },
  {
   "cell_type": "markdown",
   "id": "funky-frequency",
   "metadata": {
    "papermill": {
     "duration": 0.019791,
     "end_time": "2021-05-24T14:32:33.955864",
     "exception": false,
     "start_time": "2021-05-24T14:32:33.936073",
     "status": "completed"
    },
    "tags": []
   },
   "source": [
    "## Train a model using Random Forest Classifier\n",
    "Call the `RandomForestclassifier` model from sklearn and fit the model to the training data."
   ]
  },
  {
   "cell_type": "code",
   "execution_count": 6,
   "id": "adapted-darkness",
   "metadata": {
    "execution": {
     "iopub.execute_input": "2021-05-24T14:32:34.000433Z",
     "iopub.status.busy": "2021-05-24T14:32:33.999703Z",
     "iopub.status.idle": "2021-05-24T14:32:34.250498Z",
     "shell.execute_reply": "2021-05-24T14:32:34.249924Z",
     "shell.execute_reply.started": "2021-05-24T11:24:52.994292Z"
    },
    "papermill": {
     "duration": 0.273805,
     "end_time": "2021-05-24T14:32:34.250649",
     "exception": false,
     "start_time": "2021-05-24T14:32:33.976844",
     "status": "completed"
    },
    "tags": []
   },
   "outputs": [],
   "source": [
    "from sklearn.ensemble import RandomForestClassifier\n",
    "from sklearn.metrics import mean_squared_error"
   ]
  },
  {
   "cell_type": "code",
   "execution_count": 7,
   "id": "boring-argentina",
   "metadata": {
    "execution": {
     "iopub.execute_input": "2021-05-24T14:32:34.325514Z",
     "iopub.status.busy": "2021-05-24T14:32:34.315028Z",
     "iopub.status.idle": "2021-05-24T14:32:35.463047Z",
     "shell.execute_reply": "2021-05-24T14:32:35.462125Z",
     "shell.execute_reply.started": "2021-05-24T11:24:52.999361Z"
    },
    "papermill": {
     "duration": 1.192301,
     "end_time": "2021-05-24T14:32:35.463197",
     "exception": false,
     "start_time": "2021-05-24T14:32:34.270896",
     "status": "completed"
    },
    "tags": []
   },
   "outputs": [
    {
     "data": {
      "text/plain": [
       "RandomForestClassifier(max_features='sqrt', n_estimators=300, n_jobs=-1,\n",
       "                       random_state=38)"
      ]
     },
     "execution_count": 7,
     "metadata": {},
     "output_type": "execute_result"
    }
   ],
   "source": [
    "# Initualize the model\n",
    "rf_model = RandomForestClassifier(n_estimators= 300, max_features = \"sqrt\", n_jobs = -1, random_state = 38)\n",
    "\n",
    "# Train the model\n",
    "rf_model.fit(train_data_scaled, train_data['fault'])"
   ]
  },
  {
   "cell_type": "markdown",
   "id": "practical-thousand",
   "metadata": {
    "papermill": {
     "duration": 0.020398,
     "end_time": "2021-05-24T14:32:35.504417",
     "exception": false,
     "start_time": "2021-05-24T14:32:35.484019",
     "status": "completed"
    },
    "tags": []
   },
   "source": [
    "## Model Evaluation\n",
    "Now get predictions from the model, compute the confusion matrix and produce a classification report."
   ]
  },
  {
   "cell_type": "code",
   "execution_count": 8,
   "id": "equal-picking",
   "metadata": {
    "execution": {
     "iopub.execute_input": "2021-05-24T14:32:35.551272Z",
     "iopub.status.busy": "2021-05-24T14:32:35.550617Z",
     "iopub.status.idle": "2021-05-24T14:32:35.552482Z",
     "shell.execute_reply": "2021-05-24T14:32:35.552935Z",
     "shell.execute_reply.started": "2021-05-24T11:24:53.949746Z"
    },
    "papermill": {
     "duration": 0.028001,
     "end_time": "2021-05-24T14:32:35.553115",
     "exception": false,
     "start_time": "2021-05-24T14:32:35.525114",
     "status": "completed"
    },
    "tags": []
   },
   "outputs": [],
   "source": [
    "from sklearn.metrics import confusion_matrix,classification_report, accuracy_score"
   ]
  },
  {
   "cell_type": "code",
   "execution_count": 9,
   "id": "identified-mobile",
   "metadata": {
    "execution": {
     "iopub.execute_input": "2021-05-24T14:32:35.601203Z",
     "iopub.status.busy": "2021-05-24T14:32:35.600132Z",
     "iopub.status.idle": "2021-05-24T14:32:36.017633Z",
     "shell.execute_reply": "2021-05-24T14:32:36.018524Z",
     "shell.execute_reply.started": "2021-05-24T11:24:53.956907Z"
    },
    "papermill": {
     "duration": 0.444147,
     "end_time": "2021-05-24T14:32:36.018779",
     "exception": false,
     "start_time": "2021-05-24T14:32:35.574632",
     "status": "completed"
    },
    "tags": []
   },
   "outputs": [],
   "source": [
    "# Training data prediction\n",
    "train_predictions = rf_model.predict(train_data_scaled)\n",
    "# Testing data prediction\n",
    "test_predictions = rf_model.predict(test_data_scaled)"
   ]
  },
  {
   "cell_type": "markdown",
   "id": "educated-purse",
   "metadata": {
    "papermill": {
     "duration": 0.025647,
     "end_time": "2021-05-24T14:32:36.073450",
     "exception": false,
     "start_time": "2021-05-24T14:32:36.047803",
     "status": "completed"
    },
    "tags": []
   },
   "source": [
    "Plot confusion matrixes:"
   ]
  },
  {
   "cell_type": "code",
   "execution_count": 10,
   "id": "finnish-attribute",
   "metadata": {
    "execution": {
     "iopub.execute_input": "2021-05-24T14:32:36.136286Z",
     "iopub.status.busy": "2021-05-24T14:32:36.135609Z",
     "iopub.status.idle": "2021-05-24T14:32:36.147448Z",
     "shell.execute_reply": "2021-05-24T14:32:36.146816Z",
     "shell.execute_reply.started": "2021-05-24T11:24:54.170216Z"
    },
    "papermill": {
     "duration": 0.052619,
     "end_time": "2021-05-24T14:32:36.147611",
     "exception": false,
     "start_time": "2021-05-24T14:32:36.094992",
     "status": "completed"
    },
    "tags": []
   },
   "outputs": [],
   "source": [
    "# Confusion matrix for training data \n",
    "train_confu_matrix = confusion_matrix(train_data['fault'], train_predictions)\n",
    "\n",
    "# Confusion matrix for test data \n",
    "test_confu_matrix = confusion_matrix(test_data['fault'], test_predictions)"
   ]
  },
  {
   "cell_type": "code",
   "execution_count": 11,
   "id": "cordless-excess",
   "metadata": {
    "execution": {
     "iopub.execute_input": "2021-05-24T14:32:36.211563Z",
     "iopub.status.busy": "2021-05-24T14:32:36.210531Z",
     "iopub.status.idle": "2021-05-24T14:32:37.544091Z",
     "shell.execute_reply": "2021-05-24T14:32:37.543591Z",
     "shell.execute_reply.started": "2021-05-24T11:24:54.185254Z"
    },
    "papermill": {
     "duration": 1.37523,
     "end_time": "2021-05-24T14:32:37.544230",
     "exception": false,
     "start_time": "2021-05-24T14:32:36.169000",
     "status": "completed"
    },
    "tags": []
   },
   "outputs": [
    {
     "data": {
      "image/png": "[encoded data removed]",
      "text/plain": [
       "<Figure size 1296x576 with 2 Axes>"
      ]
     },
     "metadata": {
      "needs_background": "light"
     },
     "output_type": "display_data"
    }
   ],
   "source": [
    "fault_type = data_time.fault.unique()\n",
    "\n",
    "plt.figure(1,figsize=(18,8))\n",
    "\n",
    "plt.subplot(121)\n",
    "sns.heatmap(train_confu_matrix, annot= True,fmt = \"d\",\n",
    "xticklabels=fault_type, yticklabels=fault_type, cmap = \"Blues\", cbar = False)\n",
    "plt.title('Training Confusion Matrix')\n",
    "plt.xlabel('Predicted')\n",
    "plt.ylabel('True')\n",
    "plt.subplot(122)\n",
    "\n",
    "plt.subplot(122)\n",
    "sns.heatmap(test_confu_matrix, annot = True,\n",
    "xticklabels=fault_type, yticklabels=fault_type, cmap = \"Blues\", cbar = False)\n",
    "plt.title('Test Confusion Matrix')\n",
    "plt.xlabel('Predicted')\n",
    "plt.ylabel('True')\n",
    "\n",
    "plt.show()"
   ]
  },
  {
   "cell_type": "code",
   "execution_count": 12,
   "id": "compliant-satellite",
   "metadata": {
    "execution": {
     "iopub.execute_input": "2021-05-24T14:32:37.605636Z",
     "iopub.status.busy": "2021-05-24T14:32:37.604856Z",
     "iopub.status.idle": "2021-05-24T14:32:37.607541Z",
     "shell.execute_reply": "2021-05-24T14:32:37.608128Z",
     "shell.execute_reply.started": "2021-05-24T11:24:55.35413Z"
    },
    "papermill": {
     "duration": 0.032474,
     "end_time": "2021-05-24T14:32:37.608294",
     "exception": false,
     "start_time": "2021-05-24T14:32:37.575820",
     "status": "completed"
    },
    "tags": []
   },
   "outputs": [
    {
     "name": "stdout",
     "output_type": "stream",
     "text": [
      "Accuracy: 0.9586666666666667\n"
     ]
    }
   ],
   "source": [
    "# Model Accuracy, how often is the classifier correct?\n",
    "print(\"Accuracy:\", accuracy_score(test_data['fault'], test_predictions))"
   ]
  },
  {
   "cell_type": "code",
   "execution_count": 13,
   "id": "frank-chassis",
   "metadata": {
    "execution": {
     "iopub.execute_input": "2021-05-24T14:32:37.656166Z",
     "iopub.status.busy": "2021-05-24T14:32:37.655547Z",
     "iopub.status.idle": "2021-05-24T14:32:37.690753Z",
     "shell.execute_reply": "2021-05-24T14:32:37.690152Z",
     "shell.execute_reply.started": "2021-05-24T11:24:55.362318Z"
    },
    "papermill": {
     "duration": 0.060311,
     "end_time": "2021-05-24T14:32:37.690896",
     "exception": false,
     "start_time": "2021-05-24T14:32:37.630585",
     "status": "completed"
    },
    "tags": []
   },
   "outputs": [
    {
     "name": "stdout",
     "output_type": "stream",
     "text": [
      "              precision    recall  f1-score   support\n",
      "\n",
      "  Ball_007_1       0.97      0.96      0.97        75\n",
      "  Ball_014_1       0.92      0.88      0.90        75\n",
      "  Ball_021_1       0.90      0.87      0.88        75\n",
      "    IR_007_1       1.00      1.00      1.00        75\n",
      "    IR_014_1       1.00      1.00      1.00        75\n",
      "    IR_021_1       1.00      1.00      1.00        75\n",
      "    Normal_1       1.00      1.00      1.00        75\n",
      "  OR_007_6_1       0.99      1.00      0.99        75\n",
      "  OR_014_6_1       0.84      0.89      0.86        75\n",
      "  OR_021_6_1       0.97      0.99      0.98        75\n",
      "\n",
      "    accuracy                           0.96       750\n",
      "   macro avg       0.96      0.96      0.96       750\n",
      "weighted avg       0.96      0.96      0.96       750\n",
      "\n"
     ]
    }
   ],
   "source": [
    "# Classification report (test set)\n",
    "class_report = classification_report(y_pred = test_predictions, y_true = test_data['fault'])\n",
    "print(class_report)"
   ]
  },
  {
   "cell_type": "markdown",
   "id": "diagnostic-stuff",
   "metadata": {
    "papermill": {
     "duration": 0.022362,
     "end_time": "2021-05-24T14:32:37.736061",
     "exception": false,
     "start_time": "2021-05-24T14:32:37.713699",
     "status": "completed"
    },
    "tags": []
   },
   "source": [
    "- **recall**    = for each failure, proportion of those correctly classified over the total of the actual ones = `TP / (TP + sum(FN))`\n",
    "- **precision** = for each failure, proportion of those correctly identified over the total of the predicted = `TP / (TP + sum(FP))`\n",
    "\n",
    "Refer to [Understanding Data Science Classification Metrics in Scikit-Learn in Python](https://towardsdatascience.com/understanding-data-science-classification-metrics-in-scikit-learn-in-python-3bc336865019) for the explanation of these metrics"
   ]
  },
  {
   "cell_type": "markdown",
   "id": "sixth-render",
   "metadata": {
    "papermill": {
     "duration": 0.022608,
     "end_time": "2021-05-24T14:32:37.781801",
     "exception": false,
     "start_time": "2021-05-24T14:32:37.759193",
     "status": "completed"
    },
    "tags": []
   },
   "source": [
    "## Feature importance"
   ]
  },
  {
   "cell_type": "code",
   "execution_count": 14,
   "id": "least-polyester",
   "metadata": {
    "execution": {
     "iopub.execute_input": "2021-05-24T14:32:37.833708Z",
     "iopub.status.busy": "2021-05-24T14:32:37.832638Z",
     "iopub.status.idle": "2021-05-24T14:32:37.941459Z",
     "shell.execute_reply": "2021-05-24T14:32:37.940892Z",
     "shell.execute_reply.started": "2021-05-24T11:24:55.402215Z"
    },
    "papermill": {
     "duration": 0.136716,
     "end_time": "2021-05-24T14:32:37.941601",
     "exception": false,
     "start_time": "2021-05-24T14:32:37.804885",
     "status": "completed"
    },
    "tags": []
   },
   "outputs": [
    {
     "data": {
      "text/plain": [
       "1.0"
      ]
     },
     "execution_count": 14,
     "metadata": {},
     "output_type": "execute_result"
    }
   ],
   "source": [
    "# Obtain feature importance\n",
    "feature_importance = rf_model.feature_importances_\n",
    "# Check that importances sum is 1\n",
    "feature_importance.sum()"
   ]
  },
  {
   "cell_type": "code",
   "execution_count": 15,
   "id": "drawn-convertible",
   "metadata": {
    "execution": {
     "iopub.execute_input": "2021-05-24T14:32:37.994629Z",
     "iopub.status.busy": "2021-05-24T14:32:37.993805Z",
     "iopub.status.idle": "2021-05-24T14:32:37.996252Z",
     "shell.execute_reply": "2021-05-24T14:32:37.996763Z",
     "shell.execute_reply.started": "2021-05-24T11:24:55.5132Z"
    },
    "papermill": {
     "duration": 0.03206,
     "end_time": "2021-05-24T14:32:37.996960",
     "exception": false,
     "start_time": "2021-05-24T14:32:37.964900",
     "status": "completed"
    },
    "tags": []
   },
   "outputs": [],
   "source": [
    "# Retrieve features' names\n",
    "features = train_data.columns[:-1]\n",
    "# And count them\n",
    "num_features = len(features)\n",
    "\n",
    "# Sort features by descending importance\n",
    "indices = np.argsort(feature_importance)[::-1]\n",
    "\n",
    "# Reorder dict by descending feature importance\n",
    "features_sorted = []\n",
    "for key in indices:\n",
    "    features_sorted = np.append(features_sorted, features[key])"
   ]
  },
  {
   "cell_type": "code",
   "execution_count": 16,
   "id": "defined-gabriel",
   "metadata": {
    "execution": {
     "iopub.execute_input": "2021-05-24T14:32:38.068391Z",
     "iopub.status.busy": "2021-05-24T14:32:38.062051Z",
     "iopub.status.idle": "2021-05-24T14:32:38.248024Z",
     "shell.execute_reply": "2021-05-24T14:32:38.247448Z",
     "shell.execute_reply.started": "2021-05-24T11:21:38.426017Z"
    },
    "papermill": {
     "duration": 0.227278,
     "end_time": "2021-05-24T14:32:38.248165",
     "exception": false,
     "start_time": "2021-05-24T14:32:38.020887",
     "status": "completed"
    },
    "tags": []
   },
   "outputs": [
    {
     "data": {
      "image/png": "[encoded data removed]",
      "text/plain": [
       "<Figure size 1152x576 with 1 Axes>"
      ]
     },
     "metadata": {
      "needs_background": "light"
     },
     "output_type": "display_data"
    }
   ],
   "source": [
    "plt.figure(figsize = (16, 8))\n",
    "plt.title(\"Feature importances\")\n",
    "\n",
    "plt.bar(range(num_features), feature_importance[indices]*100,\n",
    "        color=\"blue\", align=\"center\")\n",
    "plt.xticks(range(num_features), features_sorted)\n",
    "plt.xlim([-1, num_features])\n",
    "plt.ylabel('% importance')\n",
    "plt.xlabel(\"Feature names\")\n",
    "plt.show()"
   ]
  }
 ],
 "metadata": {
  "kernelspec": {
   "display_name": "Python 3",
   "language": "python",
   "name": "python3"
  },
  "language_info": {
   "codemirror_mode": {
    "name": "ipython",
    "version": 3
   },
   "file_extension": ".py",
   "mimetype": "text/x-python",
   "name": "python",
   "nbconvert_exporter": "python",
   "pygments_lexer": "ipython3",
   "version": "3.7.10"
  },
  "papermill": {
   "default_parameters": {},
   "duration": 15.885019,
   "end_time": "2021-05-24T14:32:39.681297",
   "environment_variables": {},
   "exception": null,
   "input_path": "__notebook__.ipynb",
   "output_path": "__notebook__.ipynb",
   "parameters": {},
   "start_time": "2021-05-24T14:32:23.796278",
   "version": "2.3.3"
  }
 },
 "nbformat": 4,
 "nbformat_minor": 5
}
